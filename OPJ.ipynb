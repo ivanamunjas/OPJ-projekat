{
 "cells": [
  {
   "cell_type": "code",
   "execution_count": 49,
   "metadata": {},
   "outputs": [],
   "source": [
    "merge_functional = False # Whether to merge Functional comments into one class\n",
    "n_gram = 1  # here we chose [1, 2, 3] for [unigrams, bigrams, trigrams]\n",
    "l_penalty = 'l2' # we can choose between l1 and l2 for logistic regression and SVM\n",
    "param_min_df = 1\n",
    "param_max_df = 1.0\n",
    "use_stemmer = True\n",
    "use_tf_idf = True\n",
    "use_idf = False\n",
    "remove_special_chars = True\n",
    "use_lowercase = True"
   ]
  },
  {
   "cell_type": "code",
   "execution_count": 10,
   "metadata": {},
   "outputs": [],
   "source": [
    "import pandas as pd \n",
    "import numpy as np\n",
    "import re\n",
    "from time import time\n",
    "\n",
    "# t_start = time()"
   ]
  },
  {
   "cell_type": "code",
   "execution_count": 11,
   "metadata": {},
   "outputs": [],
   "source": [
    "import warnings\n",
    "warnings.filterwarnings('ignore')"
   ]
  },
  {
   "cell_type": "code",
   "execution_count": 8,
   "metadata": {},
   "outputs": [],
   "source": [
    "def create_common_df():        \n",
    "        df = pd.read_csv('C:\\\\Users\\\\ASUS\\\\Desktop\\\\ETF\\\\V\\\\OPJ\\\\OPJ_projekat\\\\FinalData\\\\MergedCommonFull.txt', sep='\\t', lineterminator='\\r')\n",
    "        df = df.drop(['NaturalLanguageID', 'ProgrammingLanguageName', 'RepoID', 'SourceID', 'CommentID'],axis=1)\n",
    "        return df"
   ]
  },
  {
   "cell_type": "code",
   "execution_count": 9,
   "metadata": {},
   "outputs": [
    {
     "ename": "FileNotFoundError",
     "evalue": "[Errno 2] File b'C:\\\\Users\\\\ASUS\\\\Desktop\\\\ETF\\\\V\\\\OPJ\\\\OPJ_projekat\\\\FinalData\\\\MergedCommonFull.txt' does not exist: b'C:\\\\Users\\\\ASUS\\\\Desktop\\\\ETF\\\\V\\\\OPJ\\\\OPJ_projekat\\\\FinalData\\\\MergedCommonFull.txt'",
     "output_type": "error",
     "traceback": [
      "\u001b[1;31m---------------------------------------------------------------------------\u001b[0m",
      "\u001b[1;31mFileNotFoundError\u001b[0m                         Traceback (most recent call last)",
      "\u001b[1;32m<ipython-input-9-ab905f0d19fd>\u001b[0m in \u001b[0;36m<module>\u001b[1;34m\u001b[0m\n\u001b[1;32m----> 1\u001b[1;33m \u001b[0mdf\u001b[0m \u001b[1;33m=\u001b[0m \u001b[0mcreate_common_df\u001b[0m\u001b[1;33m(\u001b[0m\u001b[1;33m)\u001b[0m\u001b[1;33m\u001b[0m\u001b[1;33m\u001b[0m\u001b[0m\n\u001b[0m",
      "\u001b[1;32m<ipython-input-8-373c44a732b3>\u001b[0m in \u001b[0;36mcreate_common_df\u001b[1;34m()\u001b[0m\n\u001b[0;32m      1\u001b[0m \u001b[1;32mdef\u001b[0m \u001b[0mcreate_common_df\u001b[0m\u001b[1;33m(\u001b[0m\u001b[1;33m)\u001b[0m\u001b[1;33m:\u001b[0m\u001b[1;33m\u001b[0m\u001b[1;33m\u001b[0m\u001b[0m\n\u001b[1;32m----> 2\u001b[1;33m         \u001b[0mdf\u001b[0m \u001b[1;33m=\u001b[0m \u001b[0mpd\u001b[0m\u001b[1;33m.\u001b[0m\u001b[0mread_csv\u001b[0m\u001b[1;33m(\u001b[0m\u001b[1;34m'C:\\\\Users\\\\ASUS\\\\Desktop\\\\ETF\\\\V\\\\OPJ\\\\OPJ_projekat\\\\FinalData\\\\MergedCommonFull.txt'\u001b[0m\u001b[1;33m,\u001b[0m \u001b[0msep\u001b[0m\u001b[1;33m=\u001b[0m\u001b[1;34m'\\t'\u001b[0m\u001b[1;33m,\u001b[0m \u001b[0mlineterminator\u001b[0m\u001b[1;33m=\u001b[0m\u001b[1;34m'\\r'\u001b[0m\u001b[1;33m)\u001b[0m\u001b[1;33m\u001b[0m\u001b[1;33m\u001b[0m\u001b[0m\n\u001b[0m\u001b[0;32m      3\u001b[0m         \u001b[0mdf\u001b[0m \u001b[1;33m=\u001b[0m \u001b[0mdf\u001b[0m\u001b[1;33m.\u001b[0m\u001b[0mdrop\u001b[0m\u001b[1;33m(\u001b[0m\u001b[1;33m[\u001b[0m\u001b[1;34m'NaturalLanguageID'\u001b[0m\u001b[1;33m,\u001b[0m \u001b[1;34m'ProgrammingLanguageName'\u001b[0m\u001b[1;33m,\u001b[0m \u001b[1;34m'RepoID'\u001b[0m\u001b[1;33m,\u001b[0m \u001b[1;34m'SourceID'\u001b[0m\u001b[1;33m,\u001b[0m \u001b[1;34m'CommentID'\u001b[0m\u001b[1;33m]\u001b[0m\u001b[1;33m,\u001b[0m\u001b[0maxis\u001b[0m\u001b[1;33m=\u001b[0m\u001b[1;36m1\u001b[0m\u001b[1;33m)\u001b[0m\u001b[1;33m\u001b[0m\u001b[1;33m\u001b[0m\u001b[0m\n\u001b[0;32m      4\u001b[0m         \u001b[1;32mreturn\u001b[0m \u001b[0mdf\u001b[0m\u001b[1;33m\u001b[0m\u001b[1;33m\u001b[0m\u001b[0m\n",
      "\u001b[1;32m~\\Anaconda3\\lib\\site-packages\\pandas\\io\\parsers.py\u001b[0m in \u001b[0;36mparser_f\u001b[1;34m(filepath_or_buffer, sep, delimiter, header, names, index_col, usecols, squeeze, prefix, mangle_dupe_cols, dtype, engine, converters, true_values, false_values, skipinitialspace, skiprows, skipfooter, nrows, na_values, keep_default_na, na_filter, verbose, skip_blank_lines, parse_dates, infer_datetime_format, keep_date_col, date_parser, dayfirst, cache_dates, iterator, chunksize, compression, thousands, decimal, lineterminator, quotechar, quoting, doublequote, escapechar, comment, encoding, dialect, error_bad_lines, warn_bad_lines, delim_whitespace, low_memory, memory_map, float_precision)\u001b[0m\n\u001b[0;32m    683\u001b[0m         )\n\u001b[0;32m    684\u001b[0m \u001b[1;33m\u001b[0m\u001b[0m\n\u001b[1;32m--> 685\u001b[1;33m         \u001b[1;32mreturn\u001b[0m \u001b[0m_read\u001b[0m\u001b[1;33m(\u001b[0m\u001b[0mfilepath_or_buffer\u001b[0m\u001b[1;33m,\u001b[0m \u001b[0mkwds\u001b[0m\u001b[1;33m)\u001b[0m\u001b[1;33m\u001b[0m\u001b[1;33m\u001b[0m\u001b[0m\n\u001b[0m\u001b[0;32m    686\u001b[0m \u001b[1;33m\u001b[0m\u001b[0m\n\u001b[0;32m    687\u001b[0m     \u001b[0mparser_f\u001b[0m\u001b[1;33m.\u001b[0m\u001b[0m__name__\u001b[0m \u001b[1;33m=\u001b[0m \u001b[0mname\u001b[0m\u001b[1;33m\u001b[0m\u001b[1;33m\u001b[0m\u001b[0m\n",
      "\u001b[1;32m~\\Anaconda3\\lib\\site-packages\\pandas\\io\\parsers.py\u001b[0m in \u001b[0;36m_read\u001b[1;34m(filepath_or_buffer, kwds)\u001b[0m\n\u001b[0;32m    455\u001b[0m \u001b[1;33m\u001b[0m\u001b[0m\n\u001b[0;32m    456\u001b[0m     \u001b[1;31m# Create the parser.\u001b[0m\u001b[1;33m\u001b[0m\u001b[1;33m\u001b[0m\u001b[1;33m\u001b[0m\u001b[0m\n\u001b[1;32m--> 457\u001b[1;33m     \u001b[0mparser\u001b[0m \u001b[1;33m=\u001b[0m \u001b[0mTextFileReader\u001b[0m\u001b[1;33m(\u001b[0m\u001b[0mfp_or_buf\u001b[0m\u001b[1;33m,\u001b[0m \u001b[1;33m**\u001b[0m\u001b[0mkwds\u001b[0m\u001b[1;33m)\u001b[0m\u001b[1;33m\u001b[0m\u001b[1;33m\u001b[0m\u001b[0m\n\u001b[0m\u001b[0;32m    458\u001b[0m \u001b[1;33m\u001b[0m\u001b[0m\n\u001b[0;32m    459\u001b[0m     \u001b[1;32mif\u001b[0m \u001b[0mchunksize\u001b[0m \u001b[1;32mor\u001b[0m \u001b[0miterator\u001b[0m\u001b[1;33m:\u001b[0m\u001b[1;33m\u001b[0m\u001b[1;33m\u001b[0m\u001b[0m\n",
      "\u001b[1;32m~\\Anaconda3\\lib\\site-packages\\pandas\\io\\parsers.py\u001b[0m in \u001b[0;36m__init__\u001b[1;34m(self, f, engine, **kwds)\u001b[0m\n\u001b[0;32m    893\u001b[0m             \u001b[0mself\u001b[0m\u001b[1;33m.\u001b[0m\u001b[0moptions\u001b[0m\u001b[1;33m[\u001b[0m\u001b[1;34m\"has_index_names\"\u001b[0m\u001b[1;33m]\u001b[0m \u001b[1;33m=\u001b[0m \u001b[0mkwds\u001b[0m\u001b[1;33m[\u001b[0m\u001b[1;34m\"has_index_names\"\u001b[0m\u001b[1;33m]\u001b[0m\u001b[1;33m\u001b[0m\u001b[1;33m\u001b[0m\u001b[0m\n\u001b[0;32m    894\u001b[0m \u001b[1;33m\u001b[0m\u001b[0m\n\u001b[1;32m--> 895\u001b[1;33m         \u001b[0mself\u001b[0m\u001b[1;33m.\u001b[0m\u001b[0m_make_engine\u001b[0m\u001b[1;33m(\u001b[0m\u001b[0mself\u001b[0m\u001b[1;33m.\u001b[0m\u001b[0mengine\u001b[0m\u001b[1;33m)\u001b[0m\u001b[1;33m\u001b[0m\u001b[1;33m\u001b[0m\u001b[0m\n\u001b[0m\u001b[0;32m    896\u001b[0m \u001b[1;33m\u001b[0m\u001b[0m\n\u001b[0;32m    897\u001b[0m     \u001b[1;32mdef\u001b[0m \u001b[0mclose\u001b[0m\u001b[1;33m(\u001b[0m\u001b[0mself\u001b[0m\u001b[1;33m)\u001b[0m\u001b[1;33m:\u001b[0m\u001b[1;33m\u001b[0m\u001b[1;33m\u001b[0m\u001b[0m\n",
      "\u001b[1;32m~\\Anaconda3\\lib\\site-packages\\pandas\\io\\parsers.py\u001b[0m in \u001b[0;36m_make_engine\u001b[1;34m(self, engine)\u001b[0m\n\u001b[0;32m   1133\u001b[0m     \u001b[1;32mdef\u001b[0m \u001b[0m_make_engine\u001b[0m\u001b[1;33m(\u001b[0m\u001b[0mself\u001b[0m\u001b[1;33m,\u001b[0m \u001b[0mengine\u001b[0m\u001b[1;33m=\u001b[0m\u001b[1;34m\"c\"\u001b[0m\u001b[1;33m)\u001b[0m\u001b[1;33m:\u001b[0m\u001b[1;33m\u001b[0m\u001b[1;33m\u001b[0m\u001b[0m\n\u001b[0;32m   1134\u001b[0m         \u001b[1;32mif\u001b[0m \u001b[0mengine\u001b[0m \u001b[1;33m==\u001b[0m \u001b[1;34m\"c\"\u001b[0m\u001b[1;33m:\u001b[0m\u001b[1;33m\u001b[0m\u001b[1;33m\u001b[0m\u001b[0m\n\u001b[1;32m-> 1135\u001b[1;33m             \u001b[0mself\u001b[0m\u001b[1;33m.\u001b[0m\u001b[0m_engine\u001b[0m \u001b[1;33m=\u001b[0m \u001b[0mCParserWrapper\u001b[0m\u001b[1;33m(\u001b[0m\u001b[0mself\u001b[0m\u001b[1;33m.\u001b[0m\u001b[0mf\u001b[0m\u001b[1;33m,\u001b[0m \u001b[1;33m**\u001b[0m\u001b[0mself\u001b[0m\u001b[1;33m.\u001b[0m\u001b[0moptions\u001b[0m\u001b[1;33m)\u001b[0m\u001b[1;33m\u001b[0m\u001b[1;33m\u001b[0m\u001b[0m\n\u001b[0m\u001b[0;32m   1136\u001b[0m         \u001b[1;32melse\u001b[0m\u001b[1;33m:\u001b[0m\u001b[1;33m\u001b[0m\u001b[1;33m\u001b[0m\u001b[0m\n\u001b[0;32m   1137\u001b[0m             \u001b[1;32mif\u001b[0m \u001b[0mengine\u001b[0m \u001b[1;33m==\u001b[0m \u001b[1;34m\"python\"\u001b[0m\u001b[1;33m:\u001b[0m\u001b[1;33m\u001b[0m\u001b[1;33m\u001b[0m\u001b[0m\n",
      "\u001b[1;32m~\\Anaconda3\\lib\\site-packages\\pandas\\io\\parsers.py\u001b[0m in \u001b[0;36m__init__\u001b[1;34m(self, src, **kwds)\u001b[0m\n\u001b[0;32m   1915\u001b[0m         \u001b[0mkwds\u001b[0m\u001b[1;33m[\u001b[0m\u001b[1;34m\"usecols\"\u001b[0m\u001b[1;33m]\u001b[0m \u001b[1;33m=\u001b[0m \u001b[0mself\u001b[0m\u001b[1;33m.\u001b[0m\u001b[0musecols\u001b[0m\u001b[1;33m\u001b[0m\u001b[1;33m\u001b[0m\u001b[0m\n\u001b[0;32m   1916\u001b[0m \u001b[1;33m\u001b[0m\u001b[0m\n\u001b[1;32m-> 1917\u001b[1;33m         \u001b[0mself\u001b[0m\u001b[1;33m.\u001b[0m\u001b[0m_reader\u001b[0m \u001b[1;33m=\u001b[0m \u001b[0mparsers\u001b[0m\u001b[1;33m.\u001b[0m\u001b[0mTextReader\u001b[0m\u001b[1;33m(\u001b[0m\u001b[0msrc\u001b[0m\u001b[1;33m,\u001b[0m \u001b[1;33m**\u001b[0m\u001b[0mkwds\u001b[0m\u001b[1;33m)\u001b[0m\u001b[1;33m\u001b[0m\u001b[1;33m\u001b[0m\u001b[0m\n\u001b[0m\u001b[0;32m   1918\u001b[0m         \u001b[0mself\u001b[0m\u001b[1;33m.\u001b[0m\u001b[0munnamed_cols\u001b[0m \u001b[1;33m=\u001b[0m \u001b[0mself\u001b[0m\u001b[1;33m.\u001b[0m\u001b[0m_reader\u001b[0m\u001b[1;33m.\u001b[0m\u001b[0munnamed_cols\u001b[0m\u001b[1;33m\u001b[0m\u001b[1;33m\u001b[0m\u001b[0m\n\u001b[0;32m   1919\u001b[0m \u001b[1;33m\u001b[0m\u001b[0m\n",
      "\u001b[1;32mpandas/_libs/parsers.pyx\u001b[0m in \u001b[0;36mpandas._libs.parsers.TextReader.__cinit__\u001b[1;34m()\u001b[0m\n",
      "\u001b[1;32mpandas/_libs/parsers.pyx\u001b[0m in \u001b[0;36mpandas._libs.parsers.TextReader._setup_parser_source\u001b[1;34m()\u001b[0m\n",
      "\u001b[1;31mFileNotFoundError\u001b[0m: [Errno 2] File b'C:\\\\Users\\\\ASUS\\\\Desktop\\\\ETF\\\\V\\\\OPJ\\\\OPJ_projekat\\\\FinalData\\\\MergedCommonFull.txt' does not exist: b'C:\\\\Users\\\\ASUS\\\\Desktop\\\\ETF\\\\V\\\\OPJ\\\\OPJ_projekat\\\\FinalData\\\\MergedCommonFull.txt'"
     ]
    }
   ],
   "source": [
    "df = create_common_df()"
   ]
  },
  {
   "cell_type": "code",
   "execution_count": 6,
   "metadata": {},
   "outputs": [
    {
     "data": {
      "text/html": [
       "<div>\n",
       "<style scoped>\n",
       "    .dataframe tbody tr th:only-of-type {\n",
       "        vertical-align: middle;\n",
       "    }\n",
       "\n",
       "    .dataframe tbody tr th {\n",
       "        vertical-align: top;\n",
       "    }\n",
       "\n",
       "    .dataframe thead th {\n",
       "        text-align: right;\n",
       "    }\n",
       "</style>\n",
       "<table border=\"1\" class=\"dataframe\">\n",
       "  <thead>\n",
       "    <tr style=\"text-align: right;\">\n",
       "      <th></th>\n",
       "      <th>comment</th>\n",
       "      <th>label_1</th>\n",
       "      <th>label_2</th>\n",
       "      <th>label_3</th>\n",
       "      <th>label_4</th>\n",
       "    </tr>\n",
       "  </thead>\n",
       "  <tbody>\n",
       "    <tr>\n",
       "      <th>0</th>\n",
       "      <td>sets status tp true or false</td>\n",
       "      <td>None</td>\n",
       "      <td>Functional-Method</td>\n",
       "      <td>Functional-Method</td>\n",
       "      <td>Functional-Method</td>\n",
       "    </tr>\n",
       "    <tr>\n",
       "      <th>1</th>\n",
       "      <td>Room numbers - Halim \\n  ********************...</td>\n",
       "      <td>None</td>\n",
       "      <td>Functional-Inline</td>\n",
       "      <td>Functional-Inline</td>\n",
       "      <td>Functional-Inline</td>\n",
       "    </tr>\n",
       "    <tr>\n",
       "      <th>2</th>\n",
       "      <td>label \\n</td>\n",
       "      <td>None</td>\n",
       "      <td>Functional-Inline</td>\n",
       "      <td>Functional-Inline</td>\n",
       "      <td>Functional-Inline</td>\n",
       "    </tr>\n",
       "    <tr>\n",
       "      <th>3</th>\n",
       "      <td>klik na dugme guest na pocetku programa \\n</td>\n",
       "      <td>Functional-Inline</td>\n",
       "      <td>Functional-Inline</td>\n",
       "      <td>Functional-Inline</td>\n",
       "      <td>Functional-Inline</td>\n",
       "    </tr>\n",
       "    <tr>\n",
       "      <th>4</th>\n",
       "      <td>prikaz slobodnih soba za izabrani tip priliko...</td>\n",
       "      <td>Functional-Inline</td>\n",
       "      <td>Functional-Inline</td>\n",
       "      <td>Functional-Inline</td>\n",
       "      <td>Functional-Method</td>\n",
       "    </tr>\n",
       "    <tr>\n",
       "      <th>...</th>\n",
       "      <td>...</td>\n",
       "      <td>...</td>\n",
       "      <td>...</td>\n",
       "      <td>...</td>\n",
       "      <td>...</td>\n",
       "    </tr>\n",
       "    <tr>\n",
       "      <th>656</th>\n",
       "      <td>\\n * Rečnik koji se koristi za normalizovanje...</td>\n",
       "      <td>Functional-Inline</td>\n",
       "      <td>Functional-Inline</td>\n",
       "      <td>Functional-Inline</td>\n",
       "      <td>Functional-Inline</td>\n",
       "    </tr>\n",
       "    <tr>\n",
       "      <th>657</th>\n",
       "      <td>Očuvava kapitalizaciju na početku rečenice \\n...</td>\n",
       "      <td>Functional-Inline</td>\n",
       "      <td>Functional-Inline</td>\n",
       "      <td>Functional-Inline</td>\n",
       "      <td>Functional-Inline</td>\n",
       "    </tr>\n",
       "    <tr>\n",
       "      <th>658</th>\n",
       "      <td>\\n * Ako se radi o karakteru koje spada u eng...</td>\n",
       "      <td>Functional-Inline</td>\n",
       "      <td>Functional-Inline</td>\n",
       "      <td>Functional-Inline</td>\n",
       "      <td>Functional-Inline</td>\n",
       "    </tr>\n",
       "    <tr>\n",
       "      <th>659</th>\n",
       "      <td>\\n * Dužina (u karakterima) najdužeg sufiksno...</td>\n",
       "      <td>Functional-Inline</td>\n",
       "      <td>Functional-Inline</td>\n",
       "      <td>Functional-Inline</td>\n",
       "      <td>Functional-Inline</td>\n",
       "    </tr>\n",
       "    <tr>\n",
       "      <th>660</th>\n",
       "      <td>NaN</td>\n",
       "      <td>NaN</td>\n",
       "      <td>NaN</td>\n",
       "      <td>NaN</td>\n",
       "      <td>NaN</td>\n",
       "    </tr>\n",
       "  </tbody>\n",
       "</table>\n",
       "<p>661 rows × 5 columns</p>\n",
       "</div>"
      ],
      "text/plain": [
       "                                               comment            label_1  \\\n",
       "0                        sets status tp true or false                None   \n",
       "1     Room numbers - Halim \\n  ********************...               None   \n",
       "2                                            label \\n                None   \n",
       "3          klik na dugme guest na pocetku programa \\n   Functional-Inline   \n",
       "4     prikaz slobodnih soba za izabrani tip priliko...  Functional-Inline   \n",
       "..                                                 ...                ...   \n",
       "656   \\n * Rečnik koji se koristi za normalizovanje...  Functional-Inline   \n",
       "657   Očuvava kapitalizaciju na početku rečenice \\n...  Functional-Inline   \n",
       "658   \\n * Ako se radi o karakteru koje spada u eng...  Functional-Inline   \n",
       "659   \\n * Dužina (u karakterima) najdužeg sufiksno...  Functional-Inline   \n",
       "660                                                NaN                NaN   \n",
       "\n",
       "               label_2            label_3            label_4  \n",
       "0    Functional-Method  Functional-Method  Functional-Method  \n",
       "1    Functional-Inline  Functional-Inline  Functional-Inline  \n",
       "2    Functional-Inline  Functional-Inline  Functional-Inline  \n",
       "3    Functional-Inline  Functional-Inline  Functional-Inline  \n",
       "4    Functional-Inline  Functional-Inline  Functional-Method  \n",
       "..                 ...                ...                ...  \n",
       "656  Functional-Inline  Functional-Inline  Functional-Inline  \n",
       "657  Functional-Inline  Functional-Inline  Functional-Inline  \n",
       "658  Functional-Inline  Functional-Inline  Functional-Inline  \n",
       "659  Functional-Inline  Functional-Inline  Functional-Inline  \n",
       "660                NaN                NaN                NaN  \n",
       "\n",
       "[661 rows x 5 columns]"
      ]
     },
     "execution_count": 6,
     "metadata": {},
     "output_type": "execute_result"
    }
   ],
   "source": [
    "df"
   ]
  },
  {
   "cell_type": "code",
   "execution_count": 7,
   "metadata": {},
   "outputs": [],
   "source": [
    "pd.set_option('display.max_rows', 10)"
   ]
  },
  {
   "cell_type": "code",
   "execution_count": 8,
   "metadata": {
    "scrolled": false
   },
   "outputs": [
    {
     "data": {
      "text/html": [
       "<div>\n",
       "<style scoped>\n",
       "    .dataframe tbody tr th:only-of-type {\n",
       "        vertical-align: middle;\n",
       "    }\n",
       "\n",
       "    .dataframe tbody tr th {\n",
       "        vertical-align: top;\n",
       "    }\n",
       "\n",
       "    .dataframe thead th {\n",
       "        text-align: right;\n",
       "    }\n",
       "</style>\n",
       "<table border=\"1\" class=\"dataframe\">\n",
       "  <thead>\n",
       "    <tr style=\"text-align: right;\">\n",
       "      <th></th>\n",
       "      <th>comment</th>\n",
       "      <th>label_1</th>\n",
       "      <th>label_2</th>\n",
       "      <th>label_3</th>\n",
       "      <th>label_4</th>\n",
       "    </tr>\n",
       "  </thead>\n",
       "  <tbody>\n",
       "    <tr>\n",
       "      <th>0</th>\n",
       "      <td>sets status tp true or false</td>\n",
       "      <td>None</td>\n",
       "      <td>Functional-Method</td>\n",
       "      <td>Functional-Method</td>\n",
       "      <td>Functional-Method</td>\n",
       "    </tr>\n",
       "    <tr>\n",
       "      <th>1</th>\n",
       "      <td>Room numbers - Halim \\n  ********************...</td>\n",
       "      <td>None</td>\n",
       "      <td>Functional-Inline</td>\n",
       "      <td>Functional-Inline</td>\n",
       "      <td>Functional-Inline</td>\n",
       "    </tr>\n",
       "    <tr>\n",
       "      <th>2</th>\n",
       "      <td>label \\n</td>\n",
       "      <td>None</td>\n",
       "      <td>Functional-Inline</td>\n",
       "      <td>Functional-Inline</td>\n",
       "      <td>Functional-Inline</td>\n",
       "    </tr>\n",
       "    <tr>\n",
       "      <th>3</th>\n",
       "      <td>klik na dugme guest na pocetku programa \\n</td>\n",
       "      <td>Functional-Inline</td>\n",
       "      <td>Functional-Inline</td>\n",
       "      <td>Functional-Inline</td>\n",
       "      <td>Functional-Inline</td>\n",
       "    </tr>\n",
       "    <tr>\n",
       "      <th>4</th>\n",
       "      <td>prikaz slobodnih soba za izabrani tip priliko...</td>\n",
       "      <td>Functional-Inline</td>\n",
       "      <td>Functional-Inline</td>\n",
       "      <td>Functional-Inline</td>\n",
       "      <td>Functional-Method</td>\n",
       "    </tr>\n",
       "    <tr>\n",
       "      <th>...</th>\n",
       "      <td>...</td>\n",
       "      <td>...</td>\n",
       "      <td>...</td>\n",
       "      <td>...</td>\n",
       "      <td>...</td>\n",
       "    </tr>\n",
       "    <tr>\n",
       "      <th>555</th>\n",
       "      <td>transformations.put(\"naca\", \"nca\");  // Batan...</td>\n",
       "      <td>None</td>\n",
       "      <td>None</td>\n",
       "      <td>None</td>\n",
       "      <td>None</td>\n",
       "    </tr>\n",
       "    <tr>\n",
       "      <th>556</th>\n",
       "      <td>\\n * Rečnik koji se koristi za normalizovanje...</td>\n",
       "      <td>Functional-Inline</td>\n",
       "      <td>Functional-Inline</td>\n",
       "      <td>Functional-Inline</td>\n",
       "      <td>Functional-Inline</td>\n",
       "    </tr>\n",
       "    <tr>\n",
       "      <th>557</th>\n",
       "      <td>Očuvava kapitalizaciju na početku rečenice \\n...</td>\n",
       "      <td>Functional-Inline</td>\n",
       "      <td>Functional-Inline</td>\n",
       "      <td>Functional-Inline</td>\n",
       "      <td>Functional-Inline</td>\n",
       "    </tr>\n",
       "    <tr>\n",
       "      <th>558</th>\n",
       "      <td>\\n * Ako se radi o karakteru koje spada u eng...</td>\n",
       "      <td>Functional-Inline</td>\n",
       "      <td>Functional-Inline</td>\n",
       "      <td>Functional-Inline</td>\n",
       "      <td>Functional-Inline</td>\n",
       "    </tr>\n",
       "    <tr>\n",
       "      <th>559</th>\n",
       "      <td>\\n * Dužina (u karakterima) najdužeg sufiksno...</td>\n",
       "      <td>Functional-Inline</td>\n",
       "      <td>Functional-Inline</td>\n",
       "      <td>Functional-Inline</td>\n",
       "      <td>Functional-Inline</td>\n",
       "    </tr>\n",
       "  </tbody>\n",
       "</table>\n",
       "<p>560 rows × 5 columns</p>\n",
       "</div>"
      ],
      "text/plain": [
       "                                               comment            label_1  \\\n",
       "0                        sets status tp true or false                None   \n",
       "1     Room numbers - Halim \\n  ********************...               None   \n",
       "2                                            label \\n                None   \n",
       "3          klik na dugme guest na pocetku programa \\n   Functional-Inline   \n",
       "4     prikaz slobodnih soba za izabrani tip priliko...  Functional-Inline   \n",
       "..                                                 ...                ...   \n",
       "555   transformations.put(\"naca\", \"nca\");  // Batan...               None   \n",
       "556   \\n * Rečnik koji se koristi za normalizovanje...  Functional-Inline   \n",
       "557   Očuvava kapitalizaciju na početku rečenice \\n...  Functional-Inline   \n",
       "558   \\n * Ako se radi o karakteru koje spada u eng...  Functional-Inline   \n",
       "559   \\n * Dužina (u karakterima) najdužeg sufiksno...  Functional-Inline   \n",
       "\n",
       "               label_2            label_3            label_4  \n",
       "0    Functional-Method  Functional-Method  Functional-Method  \n",
       "1    Functional-Inline  Functional-Inline  Functional-Inline  \n",
       "2    Functional-Inline  Functional-Inline  Functional-Inline  \n",
       "3    Functional-Inline  Functional-Inline  Functional-Inline  \n",
       "4    Functional-Inline  Functional-Inline  Functional-Method  \n",
       "..                 ...                ...                ...  \n",
       "555               None               None               None  \n",
       "556  Functional-Inline  Functional-Inline  Functional-Inline  \n",
       "557  Functional-Inline  Functional-Inline  Functional-Inline  \n",
       "558  Functional-Inline  Functional-Inline  Functional-Inline  \n",
       "559  Functional-Inline  Functional-Inline  Functional-Inline  \n",
       "\n",
       "[560 rows x 5 columns]"
      ]
     },
     "execution_count": 8,
     "metadata": {},
     "output_type": "execute_result"
    }
   ],
   "source": [
    "df.drop_duplicates(subset =\"comment\", keep = False, inplace = True)\n",
    "df = df.dropna()\n",
    "df = df.reset_index(drop=True)\n",
    "df"
   ]
  },
  {
   "cell_type": "code",
   "execution_count": 9,
   "metadata": {},
   "outputs": [],
   "source": [
    "hits = np.zeros((df.shape[0],6))\n",
    "\n",
    "for i in range(df.shape[0]):\n",
    "    if df.loc[i]['label_1'] == df.loc[i]['label_2']:\n",
    "        hits[i][0] += 1\n",
    "    if df.loc[i]['label_1'] == df.loc[i]['label_3']:\n",
    "        hits[i][1] += 1\n",
    "    if df.loc[i]['label_1'] == df.loc[i]['label_4']:\n",
    "        hits[i][2] += 1\n",
    "    if df.loc[i]['label_2'] == df.loc[i]['label_3']:\n",
    "        hits[i][3] += 1\n",
    "    if df.loc[i]['label_2'] == df.loc[i]['label_4']:\n",
    "        hits[i][4] += 1\n",
    "    if df.loc[i]['label_3'] == df.loc[i]['label_4']:\n",
    "        hits[i][5] += 1"
   ]
  },
  {
   "cell_type": "code",
   "execution_count": 10,
   "metadata": {},
   "outputs": [],
   "source": [
    "all_same = 0\n",
    "three_same_one_diff = 0\n",
    "two_same_two_diff = 0\n",
    "two_same_one_diff_one_diff = 0\n",
    "all_diff = 0\n",
    "\n",
    "for i in range(hits.shape[0]):\n",
    "    if hits[i].sum() == 6:\n",
    "        all_same += 1 \n",
    "    if hits[i].sum() == 3:\n",
    "        three_same_one_diff += 1\n",
    "    if hits[i].sum() == 2:\n",
    "        two_same_two_diff += 1\n",
    "        \n",
    "    if hits[i].sum() == 1:\n",
    "        two_same_one_diff_one_diff += 1\n",
    "    if hits[i].sum() == 0:\n",
    "        all_diff += 1"
   ]
  },
  {
   "cell_type": "code",
   "execution_count": 11,
   "metadata": {},
   "outputs": [
    {
     "name": "stdout",
     "output_type": "stream",
     "text": [
      "All same:  362\n",
      "Three same, one different:  112\n",
      "Two same, two different (same to one another):  45\n",
      "Two same, two different (different from one another):  32\n",
      "All different:  9\n",
      "Total comments:  560\n"
     ]
    }
   ],
   "source": [
    "print('All same: ', all_same)\n",
    "print('Three same, one different: ', three_same_one_diff)\n",
    "print('Two same, two different (same to one another): ', two_same_two_diff)\n",
    "print('Two same, two different (different from one another): ', two_same_one_diff_one_diff)\n",
    "print('All different: ', all_diff)\n",
    "print('Total comments: ', df.shape[0])"
   ]
  },
  {
   "cell_type": "code",
   "execution_count": 12,
   "metadata": {
    "scrolled": true
   },
   "outputs": [
    {
     "name": "stdout",
     "output_type": "stream",
     "text": [
      "All same (%):  65\n",
      "Three same, one different (%):  20\n",
      "Two same, two different (same to one another) (%):  8\n",
      "Two same, two different (different from one another) (%):  6\n",
      "All different (%):  2\n"
     ]
    }
   ],
   "source": [
    "print('All same (%): ', round(all_same/df.shape[0]*100))\n",
    "print('Three same, one different (%): ',  round(three_same_one_diff/df.shape[0]*100))\n",
    "print('Two same, two different (same to one another) (%): ',  round(two_same_two_diff/df.shape[0]*100))\n",
    "print('Two same, two different (different from one another) (%): ',  round(two_same_one_diff_one_diff/df.shape[0]*100))\n",
    "print('All different (%): ',  round(all_diff/df.shape[0]*100))"
   ]
  },
  {
   "cell_type": "code",
   "execution_count": 13,
   "metadata": {
    "scrolled": true
   },
   "outputs": [
    {
     "name": "stdout",
     "output_type": "stream",
     "text": [
      "Procenat podudarnosti izmedju Laze i Matije:  79.0\n",
      "Procenat podudarnosti izmedju Laze i Mateje:  84.0\n",
      "Procenat podudarnosti izmedju Laze i Munje:  79.0\n",
      "Procenat podudarnosti izmedju Matije i Mateje:  85.0\n",
      "Procenat podudarnosti izmedju Matije i Ivane:  70.0\n",
      "Procenat podudarnosti izmedju Mateje i Ivane:  72.0\n"
     ]
    }
   ],
   "source": [
    "print('Procenat podudarnosti izmedju Laze i Matije: ', round(hits[:,0].sum()/df.shape[0]*100))\n",
    "print('Procenat podudarnosti izmedju Laze i Mateje: ', round(hits[:,1].sum()/df.shape[0]*100))\n",
    "print('Procenat podudarnosti izmedju Laze i Munje: ', round(hits[:,2].sum()/df.shape[0]*100))\n",
    "print('Procenat podudarnosti izmedju Matije i Mateje: ', round(hits[:,3].sum()/df.shape[0]*100))\n",
    "print('Procenat podudarnosti izmedju Matije i Ivane: ', round(hits[:,4].sum()/df.shape[0]*100))\n",
    "print('Procenat podudarnosti izmedju Mateje i Ivane: ', round(hits[:,5].sum()/df.shape[0]*100))"
   ]
  },
  {
   "cell_type": "markdown",
   "metadata": {},
   "source": [
    "## Ucitavanje svih podataka"
   ]
  },
  {
   "cell_type": "code",
   "execution_count": 1,
   "metadata": {},
   "outputs": [],
   "source": [
    "import pandas as pd\n",
    "def create_df():\n",
    "    dfs = pd.DataFrame()\n",
    "    for id_ in range(1,5):\n",
    "        try:\n",
    "            cols = ['NaturalLanguageID', 'ProgrammingLanguageName', 'RepoID', 'SourceID', 'CommentID', 'comment', 'label']\n",
    "            df = pd.read_csv('.\\\\AnnotatedData\\\\OutData{}.txt'.format(id_), sep='\\t', lineterminator='\\r', header=None)\n",
    "            df.columns = cols\n",
    "            if id_ == 1:\n",
    "                dfs = df\n",
    "            else:\n",
    "                dfs = pd.concat([dfs,df], ignore_index=True)\n",
    "        \n",
    "        except:\n",
    "            with open('.\\\\AnnotatedData\\\\OutData{}.txt'.format(id_), \"r\", encoding=\"utf-8\",  newline=\"\\r\\n\") as source:\n",
    "                for line in source:\n",
    "                    line = line.replace(\"\\n\", \"\")\n",
    "                    part = line.split(\"\\t\")\n",
    "                    if len(part) != 7:\n",
    "                        print('POPRAVITI u fajlu: ', id_)\n",
    "                        print(part)\n",
    "    return dfs"
   ]
  },
  {
   "cell_type": "code",
   "execution_count": 2,
   "metadata": {},
   "outputs": [],
   "source": [
    "df = create_df()"
   ]
  },
  {
   "cell_type": "code",
   "execution_count": 3,
   "metadata": {},
   "outputs": [
    {
     "data": {
      "text/html": [
       "<div>\n",
       "<style scoped>\n",
       "    .dataframe tbody tr th:only-of-type {\n",
       "        vertical-align: middle;\n",
       "    }\n",
       "\n",
       "    .dataframe tbody tr th {\n",
       "        vertical-align: top;\n",
       "    }\n",
       "\n",
       "    .dataframe thead th {\n",
       "        text-align: right;\n",
       "    }\n",
       "</style>\n",
       "<table border=\"1\" class=\"dataframe\">\n",
       "  <thead>\n",
       "    <tr style=\"text-align: right;\">\n",
       "      <th></th>\n",
       "      <th>NaturalLanguageID</th>\n",
       "      <th>ProgrammingLanguageName</th>\n",
       "      <th>RepoID</th>\n",
       "      <th>SourceID</th>\n",
       "      <th>CommentID</th>\n",
       "      <th>comment</th>\n",
       "      <th>label</th>\n",
       "    </tr>\n",
       "  </thead>\n",
       "  <tbody>\n",
       "    <tr>\n",
       "      <th>0</th>\n",
       "      <td>SR</td>\n",
       "      <td>Java</td>\n",
       "      <td>BILD-IT-Advanced-master</td>\n",
       "      <td>src\\grupniProjekat_02_03_2016\\SearchEngine.java</td>\n",
       "      <td>BILD-IT-Advanced-master/src\\grupniProjekat_02_...</td>\n",
       "      <td>Ispisujemo poruku da je drajver loadovan</td>\n",
       "      <td>Functional-Inline</td>\n",
       "    </tr>\n",
       "    <tr>\n",
       "      <th>1</th>\n",
       "      <td>\\nSR</td>\n",
       "      <td>Java</td>\n",
       "      <td>BILD-IT-Advanced-master</td>\n",
       "      <td>src\\grupniProjekat_02_03_2016\\SearchEngine.java</td>\n",
       "      <td>BILD-IT-Advanced-master/src\\grupniProjekat_02_...</td>\n",
       "      <td>Ispis država za uneseni kontinent</td>\n",
       "      <td>Functional-Inline</td>\n",
       "    </tr>\n",
       "    <tr>\n",
       "      <th>2</th>\n",
       "      <td>\\nSR</td>\n",
       "      <td>Java</td>\n",
       "      <td>BILD-IT-Advanced-master</td>\n",
       "      <td>src\\grupniProjekat_02_03_2016\\SearchEngine.java</td>\n",
       "      <td>BILD-IT-Advanced-master/src\\grupniProjekat_02_...</td>\n",
       "      <td>Slanje upute</td>\n",
       "      <td>Functional-Inline</td>\n",
       "    </tr>\n",
       "    <tr>\n",
       "      <th>3</th>\n",
       "      <td>\\nSR</td>\n",
       "      <td>Java</td>\n",
       "      <td>BILD-IT-Advanced-master</td>\n",
       "      <td>src\\grupniProjekat_02_03_2016\\SearchEngine.java</td>\n",
       "      <td>BILD-IT-Advanced-master/src\\grupniProjekat_02_...</td>\n",
       "      <td>Zatvaranje konekcije sa bazom podataka</td>\n",
       "      <td>Functional-Inline</td>\n",
       "    </tr>\n",
       "    <tr>\n",
       "      <th>4</th>\n",
       "      <td>\\nSR</td>\n",
       "      <td>Java</td>\n",
       "      <td>BILD-IT-Advanced-master</td>\n",
       "      <td>src\\grupniProjekat_HotelManagement\\Hotel.java</td>\n",
       "      <td>BILD-IT-Advanced-master/src\\grupniProjekat_Hot...</td>\n",
       "      <td>vraca program na pocetak</td>\n",
       "      <td>Functional-Inline</td>\n",
       "    </tr>\n",
       "    <tr>\n",
       "      <th>...</th>\n",
       "      <td>...</td>\n",
       "      <td>...</td>\n",
       "      <td>...</td>\n",
       "      <td>...</td>\n",
       "      <td>...</td>\n",
       "      <td>...</td>\n",
       "      <td>...</td>\n",
       "    </tr>\n",
       "    <tr>\n",
       "      <th>3371</th>\n",
       "      <td>\\nEN/SR</td>\n",
       "      <td>Java</td>\n",
       "      <td>SCStemmers-master</td>\n",
       "      <td>src\\weka\\core\\stemmers\\SCStemmer.java</td>\n",
       "      <td>SCStemmers-master/src\\weka\\core\\stemmers\\SCSte...</td>\n",
       "      <td>* Osnovna apstraktna klasa za funkcije zajed...</td>\n",
       "      <td>Functional-Module</td>\n",
       "    </tr>\n",
       "    <tr>\n",
       "      <th>3372</th>\n",
       "      <td>\\nSR</td>\n",
       "      <td>Java</td>\n",
       "      <td>SCStemmers-master</td>\n",
       "      <td>src\\weka\\core\\stemmers\\SCStemmer.java</td>\n",
       "      <td>SCStemmers-master/src\\weka\\core\\stemmers\\SCSte...</td>\n",
       "      <td>* Inicijalizuje pravila za stemovanje  * &lt;p&gt;...</td>\n",
       "      <td>Functional-Method</td>\n",
       "    </tr>\n",
       "    <tr>\n",
       "      <th>3373</th>\n",
       "      <td>\\nSR</td>\n",
       "      <td>Java</td>\n",
       "      <td>SCStemmers-master</td>\n",
       "      <td>src\\weka\\core\\stemmers\\SerbianStemmer.java</td>\n",
       "      <td>SCStemmers-master/src\\weka\\core\\stemmers\\Serbi...</td>\n",
       "      <td>* Spisak sufiksnih pravila  * &lt;p&gt;  * &lt;i&gt;The ...</td>\n",
       "      <td>Functional-Inline</td>\n",
       "    </tr>\n",
       "    <tr>\n",
       "      <th>3374</th>\n",
       "      <td>\\nSR</td>\n",
       "      <td>Java</td>\n",
       "      <td>SCStemmers-master</td>\n",
       "      <td>src\\weka\\core\\stemmers\\SerbianStemmer.java</td>\n",
       "      <td>SCStemmers-master/src\\weka\\core\\stemmers\\Serbi...</td>\n",
       "      <td>* Stemuje reč koja je napisana u dual1 kodir...</td>\n",
       "      <td>Functional-Method</td>\n",
       "    </tr>\n",
       "    <tr>\n",
       "      <th>3375</th>\n",
       "      <td>\\nSR</td>\n",
       "      <td>Java</td>\n",
       "      <td>SCStemmers-master</td>\n",
       "      <td>src\\weka\\core\\stemmers\\SerbianStemmer.java</td>\n",
       "      <td>SCStemmers-master/src\\weka\\core\\stemmers\\Serbi...</td>\n",
       "      <td>* Konvertuje zadati string (reč ili liniju t...</td>\n",
       "      <td>Functional-Method</td>\n",
       "    </tr>\n",
       "  </tbody>\n",
       "</table>\n",
       "<p>3376 rows × 7 columns</p>\n",
       "</div>"
      ],
      "text/plain": [
       "     NaturalLanguageID ProgrammingLanguageName                   RepoID  \\\n",
       "0                   SR                    Java  BILD-IT-Advanced-master   \n",
       "1                 \\nSR                    Java  BILD-IT-Advanced-master   \n",
       "2                 \\nSR                    Java  BILD-IT-Advanced-master   \n",
       "3                 \\nSR                    Java  BILD-IT-Advanced-master   \n",
       "4                 \\nSR                    Java  BILD-IT-Advanced-master   \n",
       "...                ...                     ...                      ...   \n",
       "3371           \\nEN/SR                    Java        SCStemmers-master   \n",
       "3372              \\nSR                    Java        SCStemmers-master   \n",
       "3373              \\nSR                    Java        SCStemmers-master   \n",
       "3374              \\nSR                    Java        SCStemmers-master   \n",
       "3375              \\nSR                    Java        SCStemmers-master   \n",
       "\n",
       "                                             SourceID  \\\n",
       "0     src\\grupniProjekat_02_03_2016\\SearchEngine.java   \n",
       "1     src\\grupniProjekat_02_03_2016\\SearchEngine.java   \n",
       "2     src\\grupniProjekat_02_03_2016\\SearchEngine.java   \n",
       "3     src\\grupniProjekat_02_03_2016\\SearchEngine.java   \n",
       "4       src\\grupniProjekat_HotelManagement\\Hotel.java   \n",
       "...                                               ...   \n",
       "3371            src\\weka\\core\\stemmers\\SCStemmer.java   \n",
       "3372            src\\weka\\core\\stemmers\\SCStemmer.java   \n",
       "3373       src\\weka\\core\\stemmers\\SerbianStemmer.java   \n",
       "3374       src\\weka\\core\\stemmers\\SerbianStemmer.java   \n",
       "3375       src\\weka\\core\\stemmers\\SerbianStemmer.java   \n",
       "\n",
       "                                              CommentID  \\\n",
       "0     BILD-IT-Advanced-master/src\\grupniProjekat_02_...   \n",
       "1     BILD-IT-Advanced-master/src\\grupniProjekat_02_...   \n",
       "2     BILD-IT-Advanced-master/src\\grupniProjekat_02_...   \n",
       "3     BILD-IT-Advanced-master/src\\grupniProjekat_02_...   \n",
       "4     BILD-IT-Advanced-master/src\\grupniProjekat_Hot...   \n",
       "...                                                 ...   \n",
       "3371  SCStemmers-master/src\\weka\\core\\stemmers\\SCSte...   \n",
       "3372  SCStemmers-master/src\\weka\\core\\stemmers\\SCSte...   \n",
       "3373  SCStemmers-master/src\\weka\\core\\stemmers\\Serbi...   \n",
       "3374  SCStemmers-master/src\\weka\\core\\stemmers\\Serbi...   \n",
       "3375  SCStemmers-master/src\\weka\\core\\stemmers\\Serbi...   \n",
       "\n",
       "                                                comment              label  \n",
       "0            Ispisujemo poruku da je drajver loadovan    Functional-Inline  \n",
       "1                   Ispis država za uneseni kontinent    Functional-Inline  \n",
       "2                                        Slanje upute    Functional-Inline  \n",
       "3              Zatvaranje konekcije sa bazom podataka    Functional-Inline  \n",
       "4                            vraca program na pocetak    Functional-Inline  \n",
       "...                                                 ...                ...  \n",
       "3371    * Osnovna apstraktna klasa za funkcije zajed...  Functional-Module  \n",
       "3372    * Inicijalizuje pravila za stemovanje  * <p>...  Functional-Method  \n",
       "3373    * Spisak sufiksnih pravila  * <p>  * <i>The ...  Functional-Inline  \n",
       "3374    * Stemuje reč koja je napisana u dual1 kodir...  Functional-Method  \n",
       "3375    * Konvertuje zadati string (reč ili liniju t...  Functional-Method  \n",
       "\n",
       "[3376 rows x 7 columns]"
      ]
     },
     "execution_count": 3,
     "metadata": {},
     "output_type": "execute_result"
    }
   ],
   "source": [
    "df"
   ]
  },
  {
   "cell_type": "code",
   "execution_count": 4,
   "metadata": {},
   "outputs": [],
   "source": [
    "for i in range(df.shape[0]):\n",
    "    if df['NaturalLanguageID'][i][0] == '\\n':\n",
    "        df['NaturalLanguageID'][i] = df['NaturalLanguageID'][i][1:]"
   ]
  },
  {
   "cell_type": "code",
   "execution_count": 5,
   "metadata": {},
   "outputs": [
    {
     "data": {
      "text/html": [
       "<div>\n",
       "<style scoped>\n",
       "    .dataframe tbody tr th:only-of-type {\n",
       "        vertical-align: middle;\n",
       "    }\n",
       "\n",
       "    .dataframe tbody tr th {\n",
       "        vertical-align: top;\n",
       "    }\n",
       "\n",
       "    .dataframe thead th {\n",
       "        text-align: right;\n",
       "    }\n",
       "</style>\n",
       "<table border=\"1\" class=\"dataframe\">\n",
       "  <thead>\n",
       "    <tr style=\"text-align: right;\">\n",
       "      <th></th>\n",
       "      <th>NaturalLanguageID</th>\n",
       "      <th>ProgrammingLanguageName</th>\n",
       "      <th>RepoID</th>\n",
       "      <th>SourceID</th>\n",
       "      <th>CommentID</th>\n",
       "      <th>comment</th>\n",
       "      <th>label</th>\n",
       "    </tr>\n",
       "  </thead>\n",
       "  <tbody>\n",
       "    <tr>\n",
       "      <th>0</th>\n",
       "      <td>SR</td>\n",
       "      <td>Java</td>\n",
       "      <td>BILD-IT-Advanced-master</td>\n",
       "      <td>src\\grupniProjekat_02_03_2016\\SearchEngine.java</td>\n",
       "      <td>BILD-IT-Advanced-master/src\\grupniProjekat_02_...</td>\n",
       "      <td>Ispisujemo poruku da je drajver loadovan</td>\n",
       "      <td>Functional-Inline</td>\n",
       "    </tr>\n",
       "    <tr>\n",
       "      <th>1</th>\n",
       "      <td>SR</td>\n",
       "      <td>Java</td>\n",
       "      <td>BILD-IT-Advanced-master</td>\n",
       "      <td>src\\grupniProjekat_02_03_2016\\SearchEngine.java</td>\n",
       "      <td>BILD-IT-Advanced-master/src\\grupniProjekat_02_...</td>\n",
       "      <td>Ispis država za uneseni kontinent</td>\n",
       "      <td>Functional-Inline</td>\n",
       "    </tr>\n",
       "    <tr>\n",
       "      <th>2</th>\n",
       "      <td>SR</td>\n",
       "      <td>Java</td>\n",
       "      <td>BILD-IT-Advanced-master</td>\n",
       "      <td>src\\grupniProjekat_02_03_2016\\SearchEngine.java</td>\n",
       "      <td>BILD-IT-Advanced-master/src\\grupniProjekat_02_...</td>\n",
       "      <td>Slanje upute</td>\n",
       "      <td>Functional-Inline</td>\n",
       "    </tr>\n",
       "    <tr>\n",
       "      <th>3</th>\n",
       "      <td>SR</td>\n",
       "      <td>Java</td>\n",
       "      <td>BILD-IT-Advanced-master</td>\n",
       "      <td>src\\grupniProjekat_02_03_2016\\SearchEngine.java</td>\n",
       "      <td>BILD-IT-Advanced-master/src\\grupniProjekat_02_...</td>\n",
       "      <td>Zatvaranje konekcije sa bazom podataka</td>\n",
       "      <td>Functional-Inline</td>\n",
       "    </tr>\n",
       "    <tr>\n",
       "      <th>4</th>\n",
       "      <td>SR</td>\n",
       "      <td>Java</td>\n",
       "      <td>BILD-IT-Advanced-master</td>\n",
       "      <td>src\\grupniProjekat_HotelManagement\\Hotel.java</td>\n",
       "      <td>BILD-IT-Advanced-master/src\\grupniProjekat_Hot...</td>\n",
       "      <td>vraca program na pocetak</td>\n",
       "      <td>Functional-Inline</td>\n",
       "    </tr>\n",
       "    <tr>\n",
       "      <th>...</th>\n",
       "      <td>...</td>\n",
       "      <td>...</td>\n",
       "      <td>...</td>\n",
       "      <td>...</td>\n",
       "      <td>...</td>\n",
       "      <td>...</td>\n",
       "      <td>...</td>\n",
       "    </tr>\n",
       "    <tr>\n",
       "      <th>3371</th>\n",
       "      <td>EN/SR</td>\n",
       "      <td>Java</td>\n",
       "      <td>SCStemmers-master</td>\n",
       "      <td>src\\weka\\core\\stemmers\\SCStemmer.java</td>\n",
       "      <td>SCStemmers-master/src\\weka\\core\\stemmers\\SCSte...</td>\n",
       "      <td>* Osnovna apstraktna klasa za funkcije zajed...</td>\n",
       "      <td>Functional-Module</td>\n",
       "    </tr>\n",
       "    <tr>\n",
       "      <th>3372</th>\n",
       "      <td>SR</td>\n",
       "      <td>Java</td>\n",
       "      <td>SCStemmers-master</td>\n",
       "      <td>src\\weka\\core\\stemmers\\SCStemmer.java</td>\n",
       "      <td>SCStemmers-master/src\\weka\\core\\stemmers\\SCSte...</td>\n",
       "      <td>* Inicijalizuje pravila za stemovanje  * &lt;p&gt;...</td>\n",
       "      <td>Functional-Method</td>\n",
       "    </tr>\n",
       "    <tr>\n",
       "      <th>3373</th>\n",
       "      <td>SR</td>\n",
       "      <td>Java</td>\n",
       "      <td>SCStemmers-master</td>\n",
       "      <td>src\\weka\\core\\stemmers\\SerbianStemmer.java</td>\n",
       "      <td>SCStemmers-master/src\\weka\\core\\stemmers\\Serbi...</td>\n",
       "      <td>* Spisak sufiksnih pravila  * &lt;p&gt;  * &lt;i&gt;The ...</td>\n",
       "      <td>Functional-Inline</td>\n",
       "    </tr>\n",
       "    <tr>\n",
       "      <th>3374</th>\n",
       "      <td>SR</td>\n",
       "      <td>Java</td>\n",
       "      <td>SCStemmers-master</td>\n",
       "      <td>src\\weka\\core\\stemmers\\SerbianStemmer.java</td>\n",
       "      <td>SCStemmers-master/src\\weka\\core\\stemmers\\Serbi...</td>\n",
       "      <td>* Stemuje reč koja je napisana u dual1 kodir...</td>\n",
       "      <td>Functional-Method</td>\n",
       "    </tr>\n",
       "    <tr>\n",
       "      <th>3375</th>\n",
       "      <td>SR</td>\n",
       "      <td>Java</td>\n",
       "      <td>SCStemmers-master</td>\n",
       "      <td>src\\weka\\core\\stemmers\\SerbianStemmer.java</td>\n",
       "      <td>SCStemmers-master/src\\weka\\core\\stemmers\\Serbi...</td>\n",
       "      <td>* Konvertuje zadati string (reč ili liniju t...</td>\n",
       "      <td>Functional-Method</td>\n",
       "    </tr>\n",
       "  </tbody>\n",
       "</table>\n",
       "<p>3376 rows × 7 columns</p>\n",
       "</div>"
      ],
      "text/plain": [
       "     NaturalLanguageID ProgrammingLanguageName                   RepoID  \\\n",
       "0                   SR                    Java  BILD-IT-Advanced-master   \n",
       "1                   SR                    Java  BILD-IT-Advanced-master   \n",
       "2                   SR                    Java  BILD-IT-Advanced-master   \n",
       "3                   SR                    Java  BILD-IT-Advanced-master   \n",
       "4                   SR                    Java  BILD-IT-Advanced-master   \n",
       "...                ...                     ...                      ...   \n",
       "3371             EN/SR                    Java        SCStemmers-master   \n",
       "3372                SR                    Java        SCStemmers-master   \n",
       "3373                SR                    Java        SCStemmers-master   \n",
       "3374                SR                    Java        SCStemmers-master   \n",
       "3375                SR                    Java        SCStemmers-master   \n",
       "\n",
       "                                             SourceID  \\\n",
       "0     src\\grupniProjekat_02_03_2016\\SearchEngine.java   \n",
       "1     src\\grupniProjekat_02_03_2016\\SearchEngine.java   \n",
       "2     src\\grupniProjekat_02_03_2016\\SearchEngine.java   \n",
       "3     src\\grupniProjekat_02_03_2016\\SearchEngine.java   \n",
       "4       src\\grupniProjekat_HotelManagement\\Hotel.java   \n",
       "...                                               ...   \n",
       "3371            src\\weka\\core\\stemmers\\SCStemmer.java   \n",
       "3372            src\\weka\\core\\stemmers\\SCStemmer.java   \n",
       "3373       src\\weka\\core\\stemmers\\SerbianStemmer.java   \n",
       "3374       src\\weka\\core\\stemmers\\SerbianStemmer.java   \n",
       "3375       src\\weka\\core\\stemmers\\SerbianStemmer.java   \n",
       "\n",
       "                                              CommentID  \\\n",
       "0     BILD-IT-Advanced-master/src\\grupniProjekat_02_...   \n",
       "1     BILD-IT-Advanced-master/src\\grupniProjekat_02_...   \n",
       "2     BILD-IT-Advanced-master/src\\grupniProjekat_02_...   \n",
       "3     BILD-IT-Advanced-master/src\\grupniProjekat_02_...   \n",
       "4     BILD-IT-Advanced-master/src\\grupniProjekat_Hot...   \n",
       "...                                                 ...   \n",
       "3371  SCStemmers-master/src\\weka\\core\\stemmers\\SCSte...   \n",
       "3372  SCStemmers-master/src\\weka\\core\\stemmers\\SCSte...   \n",
       "3373  SCStemmers-master/src\\weka\\core\\stemmers\\Serbi...   \n",
       "3374  SCStemmers-master/src\\weka\\core\\stemmers\\Serbi...   \n",
       "3375  SCStemmers-master/src\\weka\\core\\stemmers\\Serbi...   \n",
       "\n",
       "                                                comment              label  \n",
       "0            Ispisujemo poruku da je drajver loadovan    Functional-Inline  \n",
       "1                   Ispis država za uneseni kontinent    Functional-Inline  \n",
       "2                                        Slanje upute    Functional-Inline  \n",
       "3              Zatvaranje konekcije sa bazom podataka    Functional-Inline  \n",
       "4                            vraca program na pocetak    Functional-Inline  \n",
       "...                                                 ...                ...  \n",
       "3371    * Osnovna apstraktna klasa za funkcije zajed...  Functional-Module  \n",
       "3372    * Inicijalizuje pravila za stemovanje  * <p>...  Functional-Method  \n",
       "3373    * Spisak sufiksnih pravila  * <p>  * <i>The ...  Functional-Inline  \n",
       "3374    * Stemuje reč koja je napisana u dual1 kodir...  Functional-Method  \n",
       "3375    * Konvertuje zadati string (reč ili liniju t...  Functional-Method  \n",
       "\n",
       "[3376 rows x 7 columns]"
      ]
     },
     "execution_count": 5,
     "metadata": {},
     "output_type": "execute_result"
    }
   ],
   "source": [
    "df"
   ]
  },
  {
   "cell_type": "code",
   "execution_count": 6,
   "metadata": {},
   "outputs": [
    {
     "ename": "NameError",
     "evalue": "name 'merge_functional' is not defined",
     "output_type": "error",
     "traceback": [
      "\u001b[1;31m---------------------------------------------------------------------------\u001b[0m",
      "\u001b[1;31mNameError\u001b[0m                                 Traceback (most recent call last)",
      "\u001b[1;32m<ipython-input-6-83cf6fc4adb3>\u001b[0m in \u001b[0;36m<module>\u001b[1;34m\u001b[0m\n\u001b[0;32m      1\u001b[0m \u001b[1;31m# This is for the case we want to use Functional for all comments\u001b[0m\u001b[1;33m\u001b[0m\u001b[1;33m\u001b[0m\u001b[1;33m\u001b[0m\u001b[0m\n\u001b[0;32m      2\u001b[0m \u001b[1;33m\u001b[0m\u001b[0m\n\u001b[1;32m----> 3\u001b[1;33m \u001b[1;32mif\u001b[0m \u001b[0mmerge_functional\u001b[0m\u001b[1;33m:\u001b[0m\u001b[1;33m\u001b[0m\u001b[1;33m\u001b[0m\u001b[0m\n\u001b[0m\u001b[0;32m      4\u001b[0m     \u001b[1;32mfor\u001b[0m \u001b[0mi\u001b[0m \u001b[1;32min\u001b[0m \u001b[0mrange\u001b[0m\u001b[1;33m(\u001b[0m\u001b[0mdf\u001b[0m\u001b[1;33m.\u001b[0m\u001b[0mshape\u001b[0m\u001b[1;33m[\u001b[0m\u001b[1;36m0\u001b[0m\u001b[1;33m]\u001b[0m\u001b[1;33m)\u001b[0m\u001b[1;33m:\u001b[0m\u001b[1;33m\u001b[0m\u001b[1;33m\u001b[0m\u001b[0m\n\u001b[0;32m      5\u001b[0m         \u001b[0mdf\u001b[0m\u001b[1;33m.\u001b[0m\u001b[0mloc\u001b[0m\u001b[1;33m[\u001b[0m\u001b[0mi\u001b[0m\u001b[1;33m]\u001b[0m\u001b[1;33m[\u001b[0m\u001b[1;34m'label'\u001b[0m\u001b[1;33m]\u001b[0m \u001b[1;33m=\u001b[0m \u001b[0mre\u001b[0m\u001b[1;33m.\u001b[0m\u001b[0msub\u001b[0m\u001b[1;33m(\u001b[0m\u001b[1;34m'-Inline'\u001b[0m\u001b[1;33m,\u001b[0m \u001b[1;34m''\u001b[0m\u001b[1;33m,\u001b[0m \u001b[0mdf\u001b[0m\u001b[1;33m[\u001b[0m\u001b[1;34m'label'\u001b[0m\u001b[1;33m]\u001b[0m\u001b[1;33m[\u001b[0m\u001b[0mi\u001b[0m\u001b[1;33m]\u001b[0m\u001b[1;33m)\u001b[0m\u001b[1;33m\u001b[0m\u001b[1;33m\u001b[0m\u001b[0m\n",
      "\u001b[1;31mNameError\u001b[0m: name 'merge_functional' is not defined"
     ]
    }
   ],
   "source": [
    "# This is for the case we want to use Functional for all comments\n",
    "\n",
    "if merge_functional:\n",
    "    for i in range(df.shape[0]):\n",
    "        df.loc[i]['label'] = re.sub('-Inline', '', df['label'][i])\n",
    "        df.loc[i]['label'] = re.sub('-Method', '', df['label'][i])\n",
    "        df.loc[i]['label'] = re.sub('-Module', '', df['label'][i])\n"
   ]
  },
  {
   "cell_type": "code",
   "execution_count": 7,
   "metadata": {},
   "outputs": [
    {
     "data": {
      "text/plain": [
       "Functional-Inline    1946\n",
       "Functional-Method     967\n",
       "Functional-Module     315\n",
       "Code                   70\n",
       "General                35\n",
       "Notice                 16\n",
       "ToDo                   16\n",
       "IDE                    11\n",
       "Name: label, dtype: int64"
      ]
     },
     "execution_count": 7,
     "metadata": {},
     "output_type": "execute_result"
    }
   ],
   "source": [
    "df['label'].value_counts()"
   ]
  },
  {
   "cell_type": "markdown",
   "metadata": {},
   "source": [
    "Preprocessing all comments"
   ]
  },
  {
   "cell_type": "code",
   "execution_count": 12,
   "metadata": {},
   "outputs": [],
   "source": [
    "for i in range(df.shape[0]):\n",
    "    # pretvaranje celog teksta u mala slova\n",
    "    if use_lowercase:\n",
    "        df.loc[i]['comment'] = df.loc[i]['comment'].lower()\n",
    "    # izbacivanje special character-a\n",
    "    if remove_special_chars:\n",
    "        df['comment'][i] = re.sub(r'\\W', ' ', df['comment'][i])\n",
    "        # izbacivanje new line oznake\n",
    "        df['comment'][i] = re.sub(r'\\b[n]\\b', '', df['comment'][i])\n",
    "        # zamena vise razmaka s jednim razmakom\n",
    "        df['comment'][i] = re.sub(r'\\s+', ' ', df['comment'][i], flags=re.I)"
   ]
  },
  {
   "cell_type": "code",
   "execution_count": 13,
   "metadata": {},
   "outputs": [
    {
     "name": "stdout",
     "output_type": "stream",
     "text": [
      " ispisujemo poruku da je drajver loadovan \n",
      " ispis država za uneseni kontinent \n",
      " slanje upute \n",
      " zatvaranje konekcije sa bazom podataka \n",
      " vraca program na pocetak \n",
      " paneli za tabove u prozoru admin \n",
      " button za pregled racuna za datog korisnika \n",
      " button za spasavanje update a gosta \n",
      " panel sa boxom i poljem za unos nove sobe na zahtjev gosta \n",
      " polje za unos novog broja sobe \n"
     ]
    }
   ],
   "source": [
    "for i in range(10):\n",
    "    print(df['comment'][i])"
   ]
  },
  {
   "cell_type": "code",
   "execution_count": 14,
   "metadata": {},
   "outputs": [
    {
     "data": {
      "text/plain": [
       "(3376, 7)"
      ]
     },
     "execution_count": 14,
     "metadata": {},
     "output_type": "execute_result"
    }
   ],
   "source": [
    "df.shape"
   ]
  },
  {
   "cell_type": "markdown",
   "metadata": {},
   "source": [
    "## ML "
   ]
  },
  {
   "cell_type": "code",
   "execution_count": 15,
   "metadata": {},
   "outputs": [
    {
     "data": {
      "text/plain": [
       "array([' ispisujemo poruku da je drajver loadovan ',\n",
       "       ' ispis država za uneseni kontinent ', ' slanje upute ', ...,\n",
       "       ' spisak sufiksnih pravila p i the list of suffix rules i ',\n",
       "       ' stemuje reč koja je napisana u dual1 kodiranju p i stems a word written in the dual1 coding system i param word reč koju treba stemovati br i the word to be stemmed i return stemovana reč br i the stemmed word i ',\n",
       "       ' konvertuje zadati string reč ili liniju teksta iz standardnog oblika ćirilice ili latinice u dual1 kodiranje p i converts the given string a word or a line of text from the standard form in the cyrillic or latin script into the dual1 coding system i param wordorline string napisan u standardnom obliku br i a string written in the standard form i return string napisan u dual1 kodiranju br i a string written in the dual1 coding system i '],\n",
       "      dtype=object)"
      ]
     },
     "execution_count": 15,
     "metadata": {},
     "output_type": "execute_result"
    }
   ],
   "source": [
    "df['comment'].values"
   ]
  },
  {
   "cell_type": "code",
   "execution_count": 16,
   "metadata": {},
   "outputs": [
    {
     "data": {
      "text/plain": [
       "Functional-Inline    1946\n",
       "Functional-Method     967\n",
       "Functional-Module     315\n",
       "Code                   70\n",
       "General                35\n",
       "Notice                 16\n",
       "ToDo                   16\n",
       "IDE                    11\n",
       "Name: label, dtype: int64"
      ]
     },
     "execution_count": 16,
     "metadata": {},
     "output_type": "execute_result"
    }
   ],
   "source": [
    "df.label.value_counts()"
   ]
  },
  {
   "cell_type": "code",
   "execution_count": 54,
   "metadata": {},
   "outputs": [
    {
     "data": {
      "text/plain": [
       "array(['label', 'Functional-Inline', 'Functional-Inline', ...,\n",
       "       'Functional-Inline', 'Functional-Inline', 'Functional-Inline'],\n",
       "      dtype=object)"
      ]
     },
     "execution_count": 54,
     "metadata": {},
     "output_type": "execute_result"
    }
   ],
   "source": [
    "df['label'].values"
   ]
  },
  {
   "cell_type": "code",
   "execution_count": 17,
   "metadata": {},
   "outputs": [],
   "source": [
    "x = df['comment'].values\n",
    "y = df['label'].values"
   ]
  },
  {
   "cell_type": "code",
   "execution_count": 56,
   "metadata": {},
   "outputs": [
    {
     "name": "stdout",
     "output_type": "stream",
     "text": [
      "[nltk_data] Downloading package punkt to\n",
      "[nltk_data]     C:\\Users\\ASUS\\AppData\\Roaming\\nltk_data...\n",
      "[nltk_data]   Package punkt is already up-to-date!\n",
      "['jovi', 'jesam', 'isx', 'u', 'sxkol', '.', 'marij', 'jesam', 'dobr', 'devoj', '.']\n",
      " jovi jesam isx u sxkol . marij jesam dobr devoj .\n"
     ]
    }
   ],
   "source": [
    "# Pokrenuti ovo za koriscenje stemmovanja\n",
    "\n",
    "import nltk\n",
    "nltk.download('punkt')\n",
    "\n",
    "import StemmerByNikola\n",
    "from StemmerByNikola import stem_str\n",
    "\n",
    "if use_stemmer:\n",
    "    stemmed_x = []\n",
    "    for doc in x:\n",
    "        stemmed_x.append(stem_str(doc))\n",
    "    \n",
    "    x = np.array(stemmed_x)"
   ]
  },
  {
   "cell_type": "code",
   "execution_count": 19,
   "metadata": {},
   "outputs": [
    {
     "data": {
      "text/plain": [
       "10"
      ]
     },
     "execution_count": 19,
     "metadata": {},
     "output_type": "execute_result"
    }
   ],
   "source": [
    "from sklearn.model_selection import StratifiedKFold\n",
    "\n",
    "kf = StratifiedKFold(n_splits=10, random_state=151, shuffle=True)\n",
    "kf.get_n_splits(x)"
   ]
  },
  {
   "cell_type": "code",
   "execution_count": 21,
   "metadata": {},
   "outputs": [],
   "source": [
    "import warnings\n",
    "warnings.filterwarnings('ignore')"
   ]
  },
  {
   "cell_type": "code",
   "execution_count": 69,
   "metadata": {},
   "outputs": [
    {
     "name": "stdout",
     "output_type": "stream",
     "text": [
      "Logistic regression:\n",
      "Accuracy: 0.8484322999432978\n",
      "F1 score: 0.3621583653748154\n"
     ]
    }
   ],
   "source": [
    "from sklearn.linear_model import LogisticRegression\n",
    "from sklearn.metrics import f1_score\n",
    "from sklearn.metrics import accuracy_score\n",
    "from sklearn.model_selection import cross_val_score# Deo gde se radi obicna vektorizacija bez TF-IDF\n",
    "from sklearn.feature_extraction.text import CountVectorizer\n",
    "from sklearn.feature_extraction.text import TfidfTransformer"
   ]
  },
  {
   "cell_type": "code",
   "execution_count": 77,
   "metadata": {},
   "outputs": [],
   "source": [
    "def create_pipeline(model='log_reg', C=1):\n",
    "    steps = []\n",
    "    steps.append((\"vect\", CountVectorizer(analyzer='word', # lowercase=True, # Menjanjem ovoga testiramo lowercase uticaj\n",
    "                         ngram_range=(1, n_gram), # Podesavanjem ovoga testiramo bigramski i trigramski uticaj\n",
    "                         min_df=param_min_df, max_df=param_max_df))) # Podesavanjem ova dva testiracemo uticaj frekvencijskog filtriranja\n",
    "    if use_tf_idf:\n",
    "        steps.append((\"tfidf\", TfidfTransformer(use_idf=use_idf)))\n",
    "        \n",
    "    if model == 'log_reg':\n",
    "        steps.append((\"classifier\", LogisticRegression(penalty=l_penalty, C=C)))\n",
    "    elif model == 'bayes':\n",
    "        steps.append((\"classifier\", MultinomialNB()))\n",
    "    elif model == 'bernoulli':\n",
    "        steps.append((\"classifier\", BernoulliNB()))\n",
    "    elif model == 'svm':\n",
    "        steps.append((\"classifier\", LinearSVC(penalty=l_penalty, C=C, dual=False)))\n",
    "        \n",
    "    return Pipeline(steps)"
   ]
  },
  {
   "cell_type": "code",
   "execution_count": 86,
   "metadata": {},
   "outputs": [],
   "source": [
    "def cross_validation(x, y, model = 'log_reg'):\n",
    "    pipeline = create_pipeline(model)\n",
    "\n",
    "    accuracies = []\n",
    "    f1_scores = []\n",
    "#     l_penalty = 'l2'\n",
    "\n",
    "    for train_index, test_index in kf.split(x, y):\n",
    "        X_train, X_test = x[train_index], x[test_index]\n",
    "        y_train, y_test = y[train_index], y[test_index]\n",
    "\n",
    "        pipeline.fit(X_train, y_train)\n",
    "        y_pred = pipeline.predict(X_test)\n",
    "\n",
    "        accuracies.append(accuracy_score(y_test, y_pred))\n",
    "        f1_scores.append(f1_score(y_test, y_pred, average='macro'))\n",
    "\n",
    "    print(model)\n",
    "    print(\"Accuracy:\", sum(accuracies)/len(accuracies))\n",
    "    print(\"F1 score:\", sum(f1_scores)/len(f1_scores))"
   ]
  },
  {
   "cell_type": "code",
   "execution_count": 89,
   "metadata": {},
   "outputs": [],
   "source": [
    "def nested_cross_validation(x, y, model='log_reg'):\n",
    "    accuracies = []\n",
    "    f1_scores = []\n",
    "    for train_index, test_index in kf.split(x, y):\n",
    "        X_train, X_test = x[train_index], x[test_index]\n",
    "        y_train, y_test = y[train_index], y[test_index]\n",
    "        parameters = {'C':[0.1, 1, 10, 100, 1000]}\n",
    "\n",
    "        kf_inner = StratifiedKFold(n_splits=5, random_state=151, shuffle=True)\n",
    "        kf_inner.get_n_splits(X_train)\n",
    "\n",
    "        acc_average = []\n",
    "        f1_average = []\n",
    "        for c in parameters['C']:\n",
    "            accuracies_inner = []\n",
    "            f1_scores_inner = []\n",
    "            for train_index_inner, test_index_inner in kf_inner.split(X_train, y_train):\n",
    "                X_train_inner, X_test_inner = X_train[train_index_inner], X_train[test_index_inner]\n",
    "                y_train_inner, y_test_inner = y_train[train_index_inner], y_train[test_index_inner]\n",
    "\n",
    "                pipeline_inner = create_pipeline(model, C=c)\n",
    "                pipeline_inner.fit(X_train_inner, y_train_inner)\n",
    "                y_pred = pipeline_inner.predict(X_test_inner)\n",
    "\n",
    "                accuracies_inner.append(accuracy_score(y_test_inner, y_pred))\n",
    "                f1_scores_inner.append(f1_score(y_test_inner, y_pred, average='macro'))\n",
    "\n",
    "            acc_average.append(np.mean(accuracies_inner))\n",
    "            f1_average.append(np.mean(f1_scores_inner))\n",
    "\n",
    "\n",
    "        pipeline = create_pipeline(model, C=parameters['C'][np.argmax(f1_average)])\n",
    "        pipeline.fit(X_train, y_train)\n",
    "        y_pred = pipeline.predict(X_test)\n",
    "        accuracies.append(accuracy_score(y_test, y_pred))\n",
    "        f1_scores.append(f1_score(y_test, y_pred, average='macro'))\n",
    "        print('Accuracy for C = {}: {}'.format(parameters['C'][np.argmax(f1_average)], accuracy_score(y_test, y_pred)))\n",
    "        print('F1 score for C = {}: {}'.format(parameters['C'][np.argmax(f1_average)], f1_score(y_test, y_pred, average='macro')))\n",
    "\n",
    "    print(model)\n",
    "    print(\"Mean accuracy: \", np.mean(accuracies))\n",
    "    print(\"Mean f1 score: \", np.mean(f1_scores))"
   ]
  },
  {
   "cell_type": "markdown",
   "metadata": {},
   "source": [
    "# Logistic regression L penalty"
   ]
  },
  {
   "cell_type": "code",
   "execution_count": 87,
   "metadata": {},
   "outputs": [
    {
     "name": "stdout",
     "output_type": "stream",
     "text": [
      "log_reg\n",
      "Accuracy: 0.8484322999432978\n",
      "F1 score: 0.3621583653748154\n"
     ]
    }
   ],
   "source": [
    "cross_validation(x, y, 'log_reg')"
   ]
  },
  {
   "cell_type": "markdown",
   "metadata": {},
   "source": [
    "## Grid search for finding the optimal C value"
   ]
  },
  {
   "cell_type": "code",
   "execution_count": 94,
   "metadata": {},
   "outputs": [
    {
     "name": "stdout",
     "output_type": "stream",
     "text": [
      "Accuracy for C = 1000: 0.8211143695014663\n",
      "F1 score for C = 1000: 0.5824740792570446\n",
      "Accuracy for C = 1000: 0.861764705882353\n",
      "F1 score for C = 1000: 0.7341134327442318\n",
      "Accuracy for C = 1000: 0.861764705882353\n",
      "F1 score for C = 1000: 0.7170624898753298\n",
      "Accuracy for C = 10: 0.8764705882352941\n",
      "F1 score for C = 10: 0.561687742810921\n",
      "Accuracy for C = 1000: 0.861764705882353\n",
      "F1 score for C = 1000: 0.5213020800575279\n",
      "Accuracy for C = 1000: 0.8816568047337278\n",
      "F1 score for C = 1000: 0.5634711779448621\n",
      "Accuracy for C = 100: 0.8567164179104477\n",
      "F1 score for C = 100: 0.4134998418296212\n",
      "Accuracy for C = 1000: 0.9131736526946108\n",
      "F1 score for C = 1000: 0.8176847733650591\n",
      "Accuracy for C = 1000: 0.8383233532934131\n",
      "F1 score for C = 1000: 0.47535723048880946\n",
      "Accuracy for C = 100: 0.9191616766467066\n",
      "F1 score for C = 100: 0.5344073662515625\n",
      "log_reg\n",
      "Mean accuracy:  0.8691910980662726\n",
      "Mean f1 score:  0.5921060214624969\n"
     ]
    }
   ],
   "source": [
    "nested_cross_validation(x, y)"
   ]
  },
  {
   "cell_type": "markdown",
   "metadata": {},
   "source": [
    "## Multinomial Naive Bayes Classifier"
   ]
  },
  {
   "cell_type": "code",
   "execution_count": 91,
   "metadata": {},
   "outputs": [
    {
     "name": "stdout",
     "output_type": "stream",
     "text": [
      "bayes\n",
      "Accuracy: 0.8051973317415492\n",
      "F1 score: 0.3210187579043369\n"
     ]
    }
   ],
   "source": [
    "cross_validation(x, y, 'bayes')"
   ]
  },
  {
   "cell_type": "markdown",
   "metadata": {},
   "source": [
    "## Bernoulli Naive Bayes Classifier"
   ]
  },
  {
   "cell_type": "code",
   "execution_count": 92,
   "metadata": {},
   "outputs": [
    {
     "name": "stdout",
     "output_type": "stream",
     "text": [
      "bernoulli\n",
      "Accuracy: 0.759542509808802\n",
      "F1 score: 0.24040117892364204\n"
     ]
    }
   ],
   "source": [
    "cross_validation(x, y, 'bernoulli')"
   ]
  },
  {
   "cell_type": "markdown",
   "metadata": {},
   "source": [
    "## Support Vector Machine"
   ]
  },
  {
   "cell_type": "code",
   "execution_count": 93,
   "metadata": {},
   "outputs": [
    {
     "name": "stdout",
     "output_type": "stream",
     "text": [
      "svm\n",
      "Accuracy: 0.8872344630716068\n",
      "F1 score: 0.6066933802213528\n"
     ]
    }
   ],
   "source": [
    "cross_validation(x, y, 'svm')"
   ]
  },
  {
   "cell_type": "code",
   "execution_count": null,
   "metadata": {},
   "outputs": [
    {
     "name": "stdout",
     "output_type": "stream",
     "text": [
      "Accuracy for C = 1: 0.8475073313782991\n",
      "F1 score for C = 1: 0.6102354566337617\n",
      "Accuracy for C = 10: 0.8735294117647059\n",
      "F1 score for C = 10: 0.729168797294754\n",
      "Accuracy for C = 1: 0.8823529411764706\n",
      "F1 score for C = 1: 0.7154070113809112\n",
      "Accuracy for C = 1: 0.8823529411764706\n",
      "F1 score for C = 1: 0.6130462659626968\n",
      "Accuracy for C = 10: 0.8676470588235294\n",
      "F1 score for C = 10: 0.5248611556590617\n",
      "Accuracy for C = 1: 0.893491124260355\n",
      "F1 score for C = 1: 0.5768283410424062\n",
      "Accuracy for C = 1: 0.8656716417910447\n",
      "F1 score for C = 1: 0.4530805157820453\n",
      "Accuracy for C = 10: 0.9221556886227545\n",
      "F1 score for C = 10: 0.8079014046952187\n",
      "Accuracy for C = 10: 0.844311377245509\n",
      "F1 score for C = 10: 0.4737452603755417\n"
     ]
    }
   ],
   "source": [
    "nested_cross_validation(x, y, 'svm')"
   ]
  },
  {
   "cell_type": "code",
   "execution_count": 71,
   "metadata": {},
   "outputs": [
    {
     "name": "stdout",
     "output_type": "stream",
     "text": [
      "157.20130968093872\n"
     ]
    }
   ],
   "source": [
    "t_end = time()\n",
    "print(t_end - t_start)"
   ]
  }
 ],
 "metadata": {
  "kernelspec": {
   "display_name": "Python 3",
   "language": "python",
   "name": "python3"
  },
  "language_info": {
   "codemirror_mode": {
    "name": "ipython",
    "version": 3
   },
   "file_extension": ".py",
   "mimetype": "text/x-python",
   "name": "python",
   "nbconvert_exporter": "python",
   "pygments_lexer": "ipython3",
   "version": "3.6.10"
  }
 },
 "nbformat": 4,
 "nbformat_minor": 4
}

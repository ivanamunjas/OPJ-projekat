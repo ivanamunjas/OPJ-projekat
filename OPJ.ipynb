{
 "cells": [
  {
   "cell_type": "code",
   "execution_count": 1,
   "metadata": {},
   "outputs": [],
   "source": [
    "merge_functional = False # Whether to merge Functional comments into one class\n",
    "n_gram = 1  # here we chose [1, 2, 3] for [unigrams, bigrams, trigrams]\n",
    "l_penalty = 'l2' # we can choose between l1 and l2 for logistic regression and SVM\n",
    "param_min_df = 1\n",
    "param_max_df = 1.0\n",
    "use_stemmer = True\n",
    "use_tf_idf = True\n",
    "use_idf = True\n",
    "remove_special_chars = True\n",
    "use_lowercase = True"
   ]
  },
  {
   "cell_type": "code",
   "execution_count": 2,
   "metadata": {},
   "outputs": [],
   "source": [
    "import pandas as pd \n",
    "import numpy as np\n",
    "import re\n",
    "from time import time\n",
    "\n",
    "t_start = time()"
   ]
  },
  {
   "cell_type": "code",
   "execution_count": 3,
   "metadata": {},
   "outputs": [],
   "source": [
    "import warnings\n",
    "warnings.filterwarnings('ignore')"
   ]
  },
  {
   "cell_type": "code",
   "execution_count": 4,
   "metadata": {},
   "outputs": [],
   "source": [
    "pd.set_option('display.max_rows', 10)"
   ]
  },
  {
   "cell_type": "markdown",
   "metadata": {},
   "source": [
    "## Ucitavanje svih podataka"
   ]
  },
  {
   "cell_type": "code",
   "execution_count": 5,
   "metadata": {},
   "outputs": [],
   "source": [
    "def create_df():\n",
    "    dfs = pd.DataFrame()\n",
    "    for id_ in range(1,5):\n",
    "        try:\n",
    "            cols = ['NaturalLanguageID', 'ProgrammingLanguageName', 'RepoID', 'SourceID', 'CommentID', 'comment', 'label']\n",
    "            df = pd.read_csv('.\\\\AnnotatedData\\\\OutData{}.txt'.format(id_), sep='\\t', lineterminator='\\r', header=None)\n",
    "            df.columns = cols\n",
    "            if id_ == 1:\n",
    "                dfs = df\n",
    "            else:\n",
    "                dfs = pd.concat([dfs,df], ignore_index=True)\n",
    "        \n",
    "        except:\n",
    "            with open('.\\\\AnnotatedData\\\\OutData{}.txt'.format(id_), \"r\", encoding=\"utf-8\",  newline=\"\\r\\n\") as source:\n",
    "                for line in source:\n",
    "                    line = line.replace(\"\\n\", \"\")\n",
    "                    part = line.split(\"\\t\")\n",
    "                    if len(part) != 7:\n",
    "                        print('POPRAVITI u fajlu: ', id_)\n",
    "                        print(part)\n",
    "    return dfs"
   ]
  },
  {
   "cell_type": "code",
   "execution_count": 6,
   "metadata": {},
   "outputs": [],
   "source": [
    "df = create_df()"
   ]
  },
  {
   "cell_type": "code",
   "execution_count": 7,
   "metadata": {},
   "outputs": [],
   "source": [
    "for i in range(df.shape[0]):\n",
    "    if df['NaturalLanguageID'][i][0] == '\\n':\n",
    "        df['NaturalLanguageID'][i] = df['NaturalLanguageID'][i][1:]"
   ]
  },
  {
   "cell_type": "code",
   "execution_count": 8,
   "metadata": {},
   "outputs": [
    {
     "data": {
      "text/html": [
       "<div>\n",
       "<style scoped>\n",
       "    .dataframe tbody tr th:only-of-type {\n",
       "        vertical-align: middle;\n",
       "    }\n",
       "\n",
       "    .dataframe tbody tr th {\n",
       "        vertical-align: top;\n",
       "    }\n",
       "\n",
       "    .dataframe thead th {\n",
       "        text-align: right;\n",
       "    }\n",
       "</style>\n",
       "<table border=\"1\" class=\"dataframe\">\n",
       "  <thead>\n",
       "    <tr style=\"text-align: right;\">\n",
       "      <th></th>\n",
       "      <th>NaturalLanguageID</th>\n",
       "      <th>ProgrammingLanguageName</th>\n",
       "      <th>RepoID</th>\n",
       "      <th>SourceID</th>\n",
       "      <th>CommentID</th>\n",
       "      <th>comment</th>\n",
       "      <th>label</th>\n",
       "    </tr>\n",
       "  </thead>\n",
       "  <tbody>\n",
       "    <tr>\n",
       "      <th>0</th>\n",
       "      <td>SR</td>\n",
       "      <td>Java</td>\n",
       "      <td>BILD-IT-Advanced-master</td>\n",
       "      <td>src\\grupniProjekat_02_03_2016\\SearchEngine.java</td>\n",
       "      <td>BILD-IT-Advanced-master/src\\grupniProjekat_02_...</td>\n",
       "      <td>Ispisujemo poruku da je drajver loadovan</td>\n",
       "      <td>Functional-Inline</td>\n",
       "    </tr>\n",
       "    <tr>\n",
       "      <th>1</th>\n",
       "      <td>SR</td>\n",
       "      <td>Java</td>\n",
       "      <td>BILD-IT-Advanced-master</td>\n",
       "      <td>src\\grupniProjekat_02_03_2016\\SearchEngine.java</td>\n",
       "      <td>BILD-IT-Advanced-master/src\\grupniProjekat_02_...</td>\n",
       "      <td>Ispis država za uneseni kontinent</td>\n",
       "      <td>Functional-Inline</td>\n",
       "    </tr>\n",
       "    <tr>\n",
       "      <th>2</th>\n",
       "      <td>SR</td>\n",
       "      <td>Java</td>\n",
       "      <td>BILD-IT-Advanced-master</td>\n",
       "      <td>src\\grupniProjekat_02_03_2016\\SearchEngine.java</td>\n",
       "      <td>BILD-IT-Advanced-master/src\\grupniProjekat_02_...</td>\n",
       "      <td>Slanje upute</td>\n",
       "      <td>Functional-Inline</td>\n",
       "    </tr>\n",
       "    <tr>\n",
       "      <th>3</th>\n",
       "      <td>SR</td>\n",
       "      <td>Java</td>\n",
       "      <td>BILD-IT-Advanced-master</td>\n",
       "      <td>src\\grupniProjekat_02_03_2016\\SearchEngine.java</td>\n",
       "      <td>BILD-IT-Advanced-master/src\\grupniProjekat_02_...</td>\n",
       "      <td>Zatvaranje konekcije sa bazom podataka</td>\n",
       "      <td>Functional-Inline</td>\n",
       "    </tr>\n",
       "    <tr>\n",
       "      <th>4</th>\n",
       "      <td>SR</td>\n",
       "      <td>Java</td>\n",
       "      <td>BILD-IT-Advanced-master</td>\n",
       "      <td>src\\grupniProjekat_HotelManagement\\Hotel.java</td>\n",
       "      <td>BILD-IT-Advanced-master/src\\grupniProjekat_Hot...</td>\n",
       "      <td>vraca program na pocetak</td>\n",
       "      <td>Functional-Inline</td>\n",
       "    </tr>\n",
       "    <tr>\n",
       "      <th>...</th>\n",
       "      <td>...</td>\n",
       "      <td>...</td>\n",
       "      <td>...</td>\n",
       "      <td>...</td>\n",
       "      <td>...</td>\n",
       "      <td>...</td>\n",
       "      <td>...</td>\n",
       "    </tr>\n",
       "    <tr>\n",
       "      <th>3371</th>\n",
       "      <td>EN/SR</td>\n",
       "      <td>Java</td>\n",
       "      <td>SCStemmers-master</td>\n",
       "      <td>src\\weka\\core\\stemmers\\SCStemmer.java</td>\n",
       "      <td>SCStemmers-master/src\\weka\\core\\stemmers\\SCSte...</td>\n",
       "      <td>* Osnovna apstraktna klasa za funkcije zajed...</td>\n",
       "      <td>Functional-Module</td>\n",
       "    </tr>\n",
       "    <tr>\n",
       "      <th>3372</th>\n",
       "      <td>SR</td>\n",
       "      <td>Java</td>\n",
       "      <td>SCStemmers-master</td>\n",
       "      <td>src\\weka\\core\\stemmers\\SCStemmer.java</td>\n",
       "      <td>SCStemmers-master/src\\weka\\core\\stemmers\\SCSte...</td>\n",
       "      <td>* Inicijalizuje pravila za stemovanje  * &lt;p&gt;...</td>\n",
       "      <td>Functional-Method</td>\n",
       "    </tr>\n",
       "    <tr>\n",
       "      <th>3373</th>\n",
       "      <td>SR</td>\n",
       "      <td>Java</td>\n",
       "      <td>SCStemmers-master</td>\n",
       "      <td>src\\weka\\core\\stemmers\\SerbianStemmer.java</td>\n",
       "      <td>SCStemmers-master/src\\weka\\core\\stemmers\\Serbi...</td>\n",
       "      <td>* Spisak sufiksnih pravila  * &lt;p&gt;  * &lt;i&gt;The ...</td>\n",
       "      <td>Functional-Inline</td>\n",
       "    </tr>\n",
       "    <tr>\n",
       "      <th>3374</th>\n",
       "      <td>SR</td>\n",
       "      <td>Java</td>\n",
       "      <td>SCStemmers-master</td>\n",
       "      <td>src\\weka\\core\\stemmers\\SerbianStemmer.java</td>\n",
       "      <td>SCStemmers-master/src\\weka\\core\\stemmers\\Serbi...</td>\n",
       "      <td>* Stemuje reč koja je napisana u dual1 kodir...</td>\n",
       "      <td>Functional-Method</td>\n",
       "    </tr>\n",
       "    <tr>\n",
       "      <th>3375</th>\n",
       "      <td>SR</td>\n",
       "      <td>Java</td>\n",
       "      <td>SCStemmers-master</td>\n",
       "      <td>src\\weka\\core\\stemmers\\SerbianStemmer.java</td>\n",
       "      <td>SCStemmers-master/src\\weka\\core\\stemmers\\Serbi...</td>\n",
       "      <td>* Konvertuje zadati string (reč ili liniju t...</td>\n",
       "      <td>Functional-Method</td>\n",
       "    </tr>\n",
       "  </tbody>\n",
       "</table>\n",
       "<p>3376 rows × 7 columns</p>\n",
       "</div>"
      ],
      "text/plain": [
       "     NaturalLanguageID ProgrammingLanguageName                   RepoID  \\\n",
       "0                   SR                    Java  BILD-IT-Advanced-master   \n",
       "1                   SR                    Java  BILD-IT-Advanced-master   \n",
       "2                   SR                    Java  BILD-IT-Advanced-master   \n",
       "3                   SR                    Java  BILD-IT-Advanced-master   \n",
       "4                   SR                    Java  BILD-IT-Advanced-master   \n",
       "...                ...                     ...                      ...   \n",
       "3371             EN/SR                    Java        SCStemmers-master   \n",
       "3372                SR                    Java        SCStemmers-master   \n",
       "3373                SR                    Java        SCStemmers-master   \n",
       "3374                SR                    Java        SCStemmers-master   \n",
       "3375                SR                    Java        SCStemmers-master   \n",
       "\n",
       "                                             SourceID  \\\n",
       "0     src\\grupniProjekat_02_03_2016\\SearchEngine.java   \n",
       "1     src\\grupniProjekat_02_03_2016\\SearchEngine.java   \n",
       "2     src\\grupniProjekat_02_03_2016\\SearchEngine.java   \n",
       "3     src\\grupniProjekat_02_03_2016\\SearchEngine.java   \n",
       "4       src\\grupniProjekat_HotelManagement\\Hotel.java   \n",
       "...                                               ...   \n",
       "3371            src\\weka\\core\\stemmers\\SCStemmer.java   \n",
       "3372            src\\weka\\core\\stemmers\\SCStemmer.java   \n",
       "3373       src\\weka\\core\\stemmers\\SerbianStemmer.java   \n",
       "3374       src\\weka\\core\\stemmers\\SerbianStemmer.java   \n",
       "3375       src\\weka\\core\\stemmers\\SerbianStemmer.java   \n",
       "\n",
       "                                              CommentID  \\\n",
       "0     BILD-IT-Advanced-master/src\\grupniProjekat_02_...   \n",
       "1     BILD-IT-Advanced-master/src\\grupniProjekat_02_...   \n",
       "2     BILD-IT-Advanced-master/src\\grupniProjekat_02_...   \n",
       "3     BILD-IT-Advanced-master/src\\grupniProjekat_02_...   \n",
       "4     BILD-IT-Advanced-master/src\\grupniProjekat_Hot...   \n",
       "...                                                 ...   \n",
       "3371  SCStemmers-master/src\\weka\\core\\stemmers\\SCSte...   \n",
       "3372  SCStemmers-master/src\\weka\\core\\stemmers\\SCSte...   \n",
       "3373  SCStemmers-master/src\\weka\\core\\stemmers\\Serbi...   \n",
       "3374  SCStemmers-master/src\\weka\\core\\stemmers\\Serbi...   \n",
       "3375  SCStemmers-master/src\\weka\\core\\stemmers\\Serbi...   \n",
       "\n",
       "                                                comment              label  \n",
       "0            Ispisujemo poruku da je drajver loadovan    Functional-Inline  \n",
       "1                   Ispis država za uneseni kontinent    Functional-Inline  \n",
       "2                                        Slanje upute    Functional-Inline  \n",
       "3              Zatvaranje konekcije sa bazom podataka    Functional-Inline  \n",
       "4                            vraca program na pocetak    Functional-Inline  \n",
       "...                                                 ...                ...  \n",
       "3371    * Osnovna apstraktna klasa za funkcije zajed...  Functional-Module  \n",
       "3372    * Inicijalizuje pravila za stemovanje  * <p>...  Functional-Method  \n",
       "3373    * Spisak sufiksnih pravila  * <p>  * <i>The ...  Functional-Inline  \n",
       "3374    * Stemuje reč koja je napisana u dual1 kodir...  Functional-Method  \n",
       "3375    * Konvertuje zadati string (reč ili liniju t...  Functional-Method  \n",
       "\n",
       "[3376 rows x 7 columns]"
      ]
     },
     "execution_count": 8,
     "metadata": {},
     "output_type": "execute_result"
    }
   ],
   "source": [
    "df"
   ]
  },
  {
   "cell_type": "code",
   "execution_count": 9,
   "metadata": {},
   "outputs": [],
   "source": [
    "# This is for the case we want to use Functional for all comments\n",
    "\n",
    "if merge_functional:\n",
    "    for i in range(df.shape[0]):\n",
    "        df.loc[i]['label'] = re.sub('-Inline', '', df['label'][i])\n",
    "        df.loc[i]['label'] = re.sub('-Method', '', df['label'][i])\n",
    "        df.loc[i]['label'] = re.sub('-Module', '', df['label'][i])"
   ]
  },
  {
   "cell_type": "markdown",
   "metadata": {},
   "source": [
    "Preprocessing all comments"
   ]
  },
  {
   "cell_type": "code",
   "execution_count": 10,
   "metadata": {},
   "outputs": [],
   "source": [
    "for i in range(df.shape[0]):\n",
    "    # pretvaranje celog teksta u mala slova\n",
    "    if use_lowercase:\n",
    "        df.loc[i]['comment'] = df.loc[i]['comment'].lower()\n",
    "    # izbacivanje special character-a\n",
    "    if remove_special_chars:\n",
    "        df['comment'][i] = re.sub(r'\\W', ' ', df['comment'][i])\n",
    "        # izbacivanje new line oznake\n",
    "        df['comment'][i] = re.sub(r'\\b[n]\\b', '', df['comment'][i])\n",
    "        # zamena vise razmaka s jednim razmakom\n",
    "        df['comment'][i] = re.sub(r'\\s+', ' ', df['comment'][i], flags=re.I)"
   ]
  },
  {
   "cell_type": "code",
   "execution_count": 11,
   "metadata": {},
   "outputs": [
    {
     "name": "stdout",
     "output_type": "stream",
     "text": [
      " ispisujemo poruku da je drajver loadovan \n",
      " ispis država za uneseni kontinent \n",
      " slanje upute \n",
      " zatvaranje konekcije sa bazom podataka \n",
      " vraca program na pocetak \n",
      " paneli za tabove u prozoru admin \n",
      " button za pregled racuna za datog korisnika \n",
      " button za spasavanje update a gosta \n",
      " panel sa boxom i poljem za unos nove sobe na zahtjev gosta \n",
      " polje za unos novog broja sobe \n"
     ]
    }
   ],
   "source": [
    "for i in range(10):\n",
    "    print(df['comment'][i])"
   ]
  },
  {
   "cell_type": "markdown",
   "metadata": {},
   "source": [
    "## ML "
   ]
  },
  {
   "cell_type": "code",
   "execution_count": 12,
   "metadata": {},
   "outputs": [
    {
     "data": {
      "text/plain": [
       "Functional-Inline    1946\n",
       "Functional-Method     967\n",
       "Functional-Module     315\n",
       "Code                   70\n",
       "General                35\n",
       "ToDo                   16\n",
       "Notice                 16\n",
       "IDE                    11\n",
       "Name: label, dtype: int64"
      ]
     },
     "execution_count": 12,
     "metadata": {},
     "output_type": "execute_result"
    }
   ],
   "source": [
    "df.label.value_counts()"
   ]
  },
  {
   "cell_type": "code",
   "execution_count": 13,
   "metadata": {},
   "outputs": [],
   "source": [
    "x = df['comment'].values\n",
    "y = df['label'].values"
   ]
  },
  {
   "cell_type": "code",
   "execution_count": 14,
   "metadata": {},
   "outputs": [
    {
     "name": "stdout",
     "output_type": "stream",
     "text": [
      "[nltk_data] Downloading package punkt to\n",
      "[nltk_data]     C:\\Users\\ASUS\\AppData\\Roaming\\nltk_data...\n",
      "[nltk_data]   Package punkt is already up-to-date!\n",
      "['jovi', 'jesam', 'isx', 'u', 'sxkol', '.', 'marij', 'jesam', 'dobr', 'devoj', '.']\n",
      " jovi jesam isx u sxkol . marij jesam dobr devoj .\n"
     ]
    }
   ],
   "source": [
    "# Pokrenuti ovo za koriscenje stemmovanja\n",
    "\n",
    "import nltk\n",
    "nltk.download('punkt')\n",
    "\n",
    "import StemmerByNikola\n",
    "from StemmerByNikola import stem_str\n",
    "\n",
    "if use_stemmer:\n",
    "    stemmed_x = []\n",
    "    for doc in x:\n",
    "        stemmed_x.append(stem_str(doc))\n",
    "    \n",
    "    x = np.array(stemmed_x)"
   ]
  },
  {
   "cell_type": "code",
   "execution_count": 15,
   "metadata": {},
   "outputs": [
    {
     "data": {
      "text/plain": [
       "10"
      ]
     },
     "execution_count": 15,
     "metadata": {},
     "output_type": "execute_result"
    }
   ],
   "source": [
    "from sklearn.model_selection import StratifiedKFold\n",
    "\n",
    "kf = StratifiedKFold(n_splits=10, random_state=151, shuffle=True)\n",
    "kf.get_n_splits(x)"
   ]
  },
  {
   "cell_type": "code",
   "execution_count": 16,
   "metadata": {},
   "outputs": [],
   "source": [
    "from sklearn.linear_model import LogisticRegression\n",
    "from sklearn.metrics import f1_score\n",
    "from sklearn.metrics import accuracy_score\n",
    "from sklearn.model_selection import cross_val_score# Deo gde se radi obicna vektorizacija bez TF-IDF\n",
    "from sklearn.feature_extraction.text import CountVectorizer\n",
    "from sklearn.feature_extraction.text import TfidfTransformer\n",
    "from sklearn.pipeline import Pipeline\n",
    "from sklearn.naive_bayes import BernoulliNB\n",
    "from sklearn.naive_bayes import MultinomialNB\n",
    "from sklearn.svm import LinearSVC"
   ]
  },
  {
   "cell_type": "code",
   "execution_count": 17,
   "metadata": {},
   "outputs": [],
   "source": [
    "def create_pipeline(model='log_reg', C=1):\n",
    "    steps = []\n",
    "    steps.append((\"vect\", CountVectorizer(analyzer='word', lowercase=use_lowercase, # Menjanjem ovoga testiramo lowercase uticaj\n",
    "                         ngram_range=(1, n_gram), # Podesavanjem ovoga testiramo bigramski i trigramski uticaj\n",
    "                         min_df=param_min_df, max_df=param_max_df))) # Podesavanjem ova dva testiracemo uticaj frekvencijskog filtriranja\n",
    "    if use_tf_idf:\n",
    "        steps.append((\"tfidf\", TfidfTransformer(use_idf=use_idf)))\n",
    "        \n",
    "    if model == 'log_reg':\n",
    "        steps.append((\"classifier\", LogisticRegression(penalty=l_penalty, C=C)))\n",
    "    elif model == 'bayes':\n",
    "        steps.append((\"classifier\", MultinomialNB()))\n",
    "    elif model == 'bernoulli':\n",
    "        steps.append((\"classifier\", BernoulliNB()))\n",
    "    elif model == 'svm':\n",
    "        steps.append((\"classifier\", LinearSVC(penalty=l_penalty, C=C, dual=True)))\n",
    "        \n",
    "    return Pipeline(steps)"
   ]
  },
  {
   "cell_type": "code",
   "execution_count": 18,
   "metadata": {},
   "outputs": [],
   "source": [
    "def cross_validation(x, y, model = 'log_reg'):\n",
    "    pipeline = create_pipeline(model)\n",
    "\n",
    "    accuracies = []\n",
    "    f1_scores = []\n",
    "\n",
    "    for train_index, test_index in kf.split(x, y):\n",
    "        X_train, X_test = x[train_index], x[test_index]\n",
    "        y_train, y_test = y[train_index], y[test_index]\n",
    "\n",
    "        pipeline.fit(X_train, y_train)\n",
    "        y_pred = pipeline.predict(X_test)\n",
    "\n",
    "        accuracies.append(accuracy_score(y_test, y_pred))\n",
    "        f1_scores.append(f1_score(y_test, y_pred, average='macro'))\n",
    "\n",
    "    print(model)\n",
    "    print(\"Accuracy:\", sum(accuracies)/len(accuracies))\n",
    "    print(\"F1 score:\", sum(f1_scores)/len(f1_scores))"
   ]
  },
  {
   "cell_type": "code",
   "execution_count": 19,
   "metadata": {},
   "outputs": [],
   "source": [
    "def nested_cross_validation(x, y, model='log_reg'):\n",
    "    accuracies = []\n",
    "    f1_scores = []\n",
    "    for train_index, test_index in kf.split(x, y):\n",
    "        X_train, X_test = x[train_index], x[test_index]\n",
    "        y_train, y_test = y[train_index], y[test_index]\n",
    "        parameters = {'C':[0.1, 1, 10, 100, 1000]}\n",
    "\n",
    "        kf_inner = StratifiedKFold(n_splits=5, random_state=151, shuffle=True)\n",
    "        kf_inner.get_n_splits(X_train)\n",
    "\n",
    "        acc_average = []\n",
    "        f1_average = []\n",
    "        for c in parameters['C']:\n",
    "            accuracies_inner = []\n",
    "            f1_scores_inner = []\n",
    "            for train_index_inner, test_index_inner in kf_inner.split(X_train, y_train):\n",
    "                X_train_inner, X_test_inner = X_train[train_index_inner], X_train[test_index_inner]\n",
    "                y_train_inner, y_test_inner = y_train[train_index_inner], y_train[test_index_inner]\n",
    "\n",
    "                pipeline_inner = create_pipeline(model, C=c)\n",
    "                pipeline_inner.fit(X_train_inner, y_train_inner)\n",
    "                y_pred = pipeline_inner.predict(X_test_inner)\n",
    "\n",
    "                accuracies_inner.append(accuracy_score(y_test_inner, y_pred))\n",
    "                f1_scores_inner.append(f1_score(y_test_inner, y_pred, average='macro'))\n",
    "\n",
    "            acc_average.append(np.mean(accuracies_inner))\n",
    "            f1_average.append(np.mean(f1_scores_inner))\n",
    "\n",
    "\n",
    "        pipeline = create_pipeline(model, C=parameters['C'][np.argmax(f1_average)])\n",
    "        pipeline.fit(X_train, y_train)\n",
    "        y_pred = pipeline.predict(X_test)\n",
    "        accuracies.append(accuracy_score(y_test, y_pred))\n",
    "        f1_scores.append(f1_score(y_test, y_pred, average='macro'))\n",
    "        print('Accuracy for C = {}: {}'.format(parameters['C'][np.argmax(f1_average)], accuracy_score(y_test, y_pred)))\n",
    "        print('F1 score for C = {}: {}'.format(parameters['C'][np.argmax(f1_average)], f1_score(y_test, y_pred, average='macro')))\n",
    "        print('\\n')\n",
    "        \n",
    "    print(model)\n",
    "    print(\"Mean accuracy: \", np.mean(accuracies))\n",
    "    print(\"Mean f1 score: \", np.mean(f1_scores))"
   ]
  },
  {
   "cell_type": "markdown",
   "metadata": {},
   "source": [
    "# Logistic regression L penalty"
   ]
  },
  {
   "cell_type": "code",
   "execution_count": 20,
   "metadata": {},
   "outputs": [],
   "source": [
    "# cross_validation(x, y, 'log_reg')"
   ]
  },
  {
   "cell_type": "markdown",
   "metadata": {},
   "source": [
    "## Logistic regression - search for finding the optimal C value"
   ]
  },
  {
   "cell_type": "code",
   "execution_count": 21,
   "metadata": {},
   "outputs": [
    {
     "name": "stdout",
     "output_type": "stream",
     "text": [
      "Accuracy for C = 1000: 0.8005865102639296\n",
      "F1 score for C = 1000: 0.6140651942783278\n",
      "\n",
      "\n",
      "Accuracy for C = 1000: 0.8411764705882353\n",
      "F1 score for C = 1000: 0.7423640670254805\n",
      "\n",
      "\n",
      "Accuracy for C = 1000: 0.8235294117647058\n",
      "F1 score for C = 1000: 0.6923572308504553\n",
      "\n",
      "\n",
      "Accuracy for C = 1000: 0.8764705882352941\n",
      "F1 score for C = 1000: 0.616578555764411\n",
      "\n",
      "\n",
      "Accuracy for C = 1000: 0.8264705882352941\n",
      "F1 score for C = 1000: 0.468598982806258\n",
      "\n",
      "\n",
      "Accuracy for C = 1000: 0.8402366863905325\n",
      "F1 score for C = 1000: 0.5544947318007662\n",
      "\n",
      "\n",
      "Accuracy for C = 100: 0.8208955223880597\n",
      "F1 score for C = 100: 0.39894686544995267\n",
      "\n",
      "\n",
      "Accuracy for C = 1000: 0.8952095808383234\n",
      "F1 score for C = 1000: 0.8121483196623241\n",
      "\n",
      "\n",
      "Accuracy for C = 1000: 0.8323353293413174\n",
      "F1 score for C = 1000: 0.4599887612387612\n",
      "\n",
      "\n",
      "Accuracy for C = 100: 0.8562874251497006\n",
      "F1 score for C = 100: 0.5110640457445452\n",
      "\n",
      "\n",
      "log_reg\n",
      "Mean accuracy:  0.8413198113195393\n",
      "Mean f1 score:  0.5870606754621283\n"
     ]
    }
   ],
   "source": [
    "nested_cross_validation(x, y)"
   ]
  },
  {
   "cell_type": "markdown",
   "metadata": {},
   "source": [
    "## Multinomial Naive Bayes Classifier"
   ]
  },
  {
   "cell_type": "code",
   "execution_count": 22,
   "metadata": {},
   "outputs": [
    {
     "name": "stdout",
     "output_type": "stream",
     "text": [
      "bayes\n",
      "Accuracy: 0.7693874402481814\n",
      "F1 score: 0.3050871900096982\n"
     ]
    }
   ],
   "source": [
    "cross_validation(x, y, 'bayes')"
   ]
  },
  {
   "cell_type": "markdown",
   "metadata": {},
   "source": [
    "## Bernoulli Naive Bayes Classifier"
   ]
  },
  {
   "cell_type": "code",
   "execution_count": 23,
   "metadata": {},
   "outputs": [
    {
     "name": "stdout",
     "output_type": "stream",
     "text": [
      "bernoulli\n",
      "Accuracy: 0.7735341400690021\n",
      "F1 score: 0.2685805269558231\n"
     ]
    }
   ],
   "source": [
    "cross_validation(x, y, 'bernoulli')"
   ]
  },
  {
   "cell_type": "markdown",
   "metadata": {},
   "source": [
    "## Support Vector Machine"
   ]
  },
  {
   "cell_type": "code",
   "execution_count": 24,
   "metadata": {},
   "outputs": [],
   "source": [
    "# cross_validation(x, y, 'svm')"
   ]
  },
  {
   "cell_type": "markdown",
   "metadata": {},
   "source": [
    "## Support Vector Machine - search for finding the optimal C value"
   ]
  },
  {
   "cell_type": "code",
   "execution_count": 25,
   "metadata": {},
   "outputs": [
    {
     "name": "stdout",
     "output_type": "stream",
     "text": [
      "Accuracy for C = 1: 0.8269794721407625\n",
      "F1 score for C = 1: 0.6063593426220604\n",
      "\n",
      "\n",
      "Accuracy for C = 10: 0.85\n",
      "F1 score for C = 10: 0.7380212656332059\n",
      "\n",
      "\n",
      "Accuracy for C = 1: 0.85\n",
      "F1 score for C = 1: 0.7009620914043584\n",
      "\n",
      "\n",
      "Accuracy for C = 10: 0.8647058823529412\n",
      "F1 score for C = 10: 0.6305222067952533\n",
      "\n",
      "\n",
      "Accuracy for C = 1: 0.8235294117647058\n",
      "F1 score for C = 1: 0.38707697887026143\n",
      "\n",
      "\n",
      "Accuracy for C = 1: 0.8579881656804734\n",
      "F1 score for C = 1: 0.557549297428006\n",
      "\n",
      "\n",
      "Accuracy for C = 1: 0.8328358208955224\n",
      "F1 score for C = 1: 0.43516869117324936\n",
      "\n",
      "\n",
      "Accuracy for C = 10: 0.9131736526946108\n",
      "F1 score for C = 10: 0.8177766010425799\n",
      "\n",
      "\n",
      "Accuracy for C = 10: 0.8233532934131736\n",
      "F1 score for C = 10: 0.4544512005060834\n",
      "\n",
      "\n",
      "Accuracy for C = 1: 0.8922155688622755\n",
      "F1 score for C = 1: 0.5259789992827844\n",
      "\n",
      "\n",
      "svm\n",
      "Mean accuracy:  0.8534781267804465\n",
      "Mean f1 score:  0.5853866674757843\n"
     ]
    }
   ],
   "source": [
    "nested_cross_validation(x, y, 'svm')"
   ]
  },
  {
   "cell_type": "code",
   "execution_count": 26,
   "metadata": {},
   "outputs": [
    {
     "name": "stdout",
     "output_type": "stream",
     "text": [
      "229.24115777015686\n"
     ]
    }
   ],
   "source": [
    "t_end = time()\n",
    "print(t_end - t_start)"
   ]
  }
 ],
 "metadata": {
  "kernelspec": {
   "display_name": "Python 3",
   "language": "python",
   "name": "python3"
  },
  "language_info": {
   "codemirror_mode": {
    "name": "ipython",
    "version": 3
   },
   "file_extension": ".py",
   "mimetype": "text/x-python",
   "name": "python",
   "nbconvert_exporter": "python",
   "pygments_lexer": "ipython3",
   "version": "3.6.10"
  }
 },
 "nbformat": 4,
 "nbformat_minor": 4
}
